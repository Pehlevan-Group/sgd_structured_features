{
  "nbformat": 4,
  "nbformat_minor": 0,
  "metadata": {
    "colab": {
      "name": "SGD_LC_Theory_NTK.ipynb",
      "provenance": [],
      "collapsed_sections": [],
      "machine_shape": "hm",
      "authorship_tag": "ABX9TyPOWOmOsf+5Mpd1xo98YXpt",
      "include_colab_link": true
    },
    "kernelspec": {
      "name": "python3",
      "display_name": "Python 3"
    },
    "language_info": {
      "name": "python"
    },
    "accelerator": "GPU",
    "widgets": {
      "application/vnd.jupyter.widget-state+json": {
        "87ae51776759457db0e7ce64c5841134": {
          "model_module": "@jupyter-widgets/controls",
          "model_name": "HBoxModel",
          "state": {
            "_view_name": "HBoxView",
            "_dom_classes": [],
            "_model_name": "HBoxModel",
            "_view_module": "@jupyter-widgets/controls",
            "_model_module_version": "1.5.0",
            "_view_count": null,
            "_view_module_version": "1.5.0",
            "box_style": "",
            "layout": "IPY_MODEL_a742bd0a700a4041952bb043c4626913",
            "_model_module": "@jupyter-widgets/controls",
            "children": [
              "IPY_MODEL_8b6861aae2d1448c8f083fa214b57b5e",
              "IPY_MODEL_65fc8ff70cd0479990444bdfbd682700"
            ]
          }
        },
        "a742bd0a700a4041952bb043c4626913": {
          "model_module": "@jupyter-widgets/base",
          "model_name": "LayoutModel",
          "state": {
            "_view_name": "LayoutView",
            "grid_template_rows": null,
            "right": null,
            "justify_content": null,
            "_view_module": "@jupyter-widgets/base",
            "overflow": null,
            "_model_module_version": "1.2.0",
            "_view_count": null,
            "flex_flow": null,
            "width": null,
            "min_width": null,
            "border": null,
            "align_items": null,
            "bottom": null,
            "_model_module": "@jupyter-widgets/base",
            "top": null,
            "grid_column": null,
            "overflow_y": null,
            "overflow_x": null,
            "grid_auto_flow": null,
            "grid_area": null,
            "grid_template_columns": null,
            "flex": null,
            "_model_name": "LayoutModel",
            "justify_items": null,
            "grid_row": null,
            "max_height": null,
            "align_content": null,
            "visibility": null,
            "align_self": null,
            "height": null,
            "min_height": null,
            "padding": null,
            "grid_auto_rows": null,
            "grid_gap": null,
            "max_width": null,
            "order": null,
            "_view_module_version": "1.2.0",
            "grid_template_areas": null,
            "object_position": null,
            "object_fit": null,
            "grid_auto_columns": null,
            "margin": null,
            "display": null,
            "left": null
          }
        },
        "8b6861aae2d1448c8f083fa214b57b5e": {
          "model_module": "@jupyter-widgets/controls",
          "model_name": "FloatProgressModel",
          "state": {
            "_view_name": "ProgressView",
            "style": "IPY_MODEL_f18a9fadf75241c096d77569e38dc820",
            "_dom_classes": [],
            "description": "Dl Completed...: 100%",
            "_model_name": "FloatProgressModel",
            "bar_style": "success",
            "max": 4,
            "_view_module": "@jupyter-widgets/controls",
            "_model_module_version": "1.5.0",
            "value": 4,
            "_view_count": null,
            "_view_module_version": "1.5.0",
            "orientation": "horizontal",
            "min": 0,
            "description_tooltip": null,
            "_model_module": "@jupyter-widgets/controls",
            "layout": "IPY_MODEL_d9180bc241304b15809c1b6fc11157d9"
          }
        },
        "65fc8ff70cd0479990444bdfbd682700": {
          "model_module": "@jupyter-widgets/controls",
          "model_name": "HTMLModel",
          "state": {
            "_view_name": "HTMLView",
            "style": "IPY_MODEL_36c4879e76fd443a947274f950e18f51",
            "_dom_classes": [],
            "description": "",
            "_model_name": "HTMLModel",
            "placeholder": "​",
            "_view_module": "@jupyter-widgets/controls",
            "_model_module_version": "1.5.0",
            "value": " 4/4 [00:08&lt;00:00,  2.03s/ file]",
            "_view_count": null,
            "_view_module_version": "1.5.0",
            "description_tooltip": null,
            "_model_module": "@jupyter-widgets/controls",
            "layout": "IPY_MODEL_1777ea77677f4a68ab18f15f38ca8c7c"
          }
        },
        "f18a9fadf75241c096d77569e38dc820": {
          "model_module": "@jupyter-widgets/controls",
          "model_name": "ProgressStyleModel",
          "state": {
            "_view_name": "StyleView",
            "_model_name": "ProgressStyleModel",
            "description_width": "initial",
            "_view_module": "@jupyter-widgets/base",
            "_model_module_version": "1.5.0",
            "_view_count": null,
            "_view_module_version": "1.2.0",
            "bar_color": null,
            "_model_module": "@jupyter-widgets/controls"
          }
        },
        "d9180bc241304b15809c1b6fc11157d9": {
          "model_module": "@jupyter-widgets/base",
          "model_name": "LayoutModel",
          "state": {
            "_view_name": "LayoutView",
            "grid_template_rows": null,
            "right": null,
            "justify_content": null,
            "_view_module": "@jupyter-widgets/base",
            "overflow": null,
            "_model_module_version": "1.2.0",
            "_view_count": null,
            "flex_flow": null,
            "width": null,
            "min_width": null,
            "border": null,
            "align_items": null,
            "bottom": null,
            "_model_module": "@jupyter-widgets/base",
            "top": null,
            "grid_column": null,
            "overflow_y": null,
            "overflow_x": null,
            "grid_auto_flow": null,
            "grid_area": null,
            "grid_template_columns": null,
            "flex": null,
            "_model_name": "LayoutModel",
            "justify_items": null,
            "grid_row": null,
            "max_height": null,
            "align_content": null,
            "visibility": null,
            "align_self": null,
            "height": null,
            "min_height": null,
            "padding": null,
            "grid_auto_rows": null,
            "grid_gap": null,
            "max_width": null,
            "order": null,
            "_view_module_version": "1.2.0",
            "grid_template_areas": null,
            "object_position": null,
            "object_fit": null,
            "grid_auto_columns": null,
            "margin": null,
            "display": null,
            "left": null
          }
        },
        "36c4879e76fd443a947274f950e18f51": {
          "model_module": "@jupyter-widgets/controls",
          "model_name": "DescriptionStyleModel",
          "state": {
            "_view_name": "StyleView",
            "_model_name": "DescriptionStyleModel",
            "description_width": "",
            "_view_module": "@jupyter-widgets/base",
            "_model_module_version": "1.5.0",
            "_view_count": null,
            "_view_module_version": "1.2.0",
            "_model_module": "@jupyter-widgets/controls"
          }
        },
        "1777ea77677f4a68ab18f15f38ca8c7c": {
          "model_module": "@jupyter-widgets/base",
          "model_name": "LayoutModel",
          "state": {
            "_view_name": "LayoutView",
            "grid_template_rows": null,
            "right": null,
            "justify_content": null,
            "_view_module": "@jupyter-widgets/base",
            "overflow": null,
            "_model_module_version": "1.2.0",
            "_view_count": null,
            "flex_flow": null,
            "width": null,
            "min_width": null,
            "border": null,
            "align_items": null,
            "bottom": null,
            "_model_module": "@jupyter-widgets/base",
            "top": null,
            "grid_column": null,
            "overflow_y": null,
            "overflow_x": null,
            "grid_auto_flow": null,
            "grid_area": null,
            "grid_template_columns": null,
            "flex": null,
            "_model_name": "LayoutModel",
            "justify_items": null,
            "grid_row": null,
            "max_height": null,
            "align_content": null,
            "visibility": null,
            "align_self": null,
            "height": null,
            "min_height": null,
            "padding": null,
            "grid_auto_rows": null,
            "grid_gap": null,
            "max_width": null,
            "order": null,
            "_view_module_version": "1.2.0",
            "grid_template_areas": null,
            "object_position": null,
            "object_fit": null,
            "grid_auto_columns": null,
            "margin": null,
            "display": null,
            "left": null
          }
        }
      }
    }
  },
  "cells": [
    {
      "cell_type": "markdown",
      "metadata": {
        "id": "view-in-github",
        "colab_type": "text"
      },
      "source": [
        "<a href=\"https://colab.research.google.com/github/Pehlevan-Group/sgd_structured_features/blob/main/SGD_LC_Theory_NTK.ipynb\" target=\"_parent\"><img src=\"https://colab.research.google.com/assets/colab-badge.svg\" alt=\"Open In Colab\"/></a>"
      ]
    },
    {
      "cell_type": "code",
      "metadata": {
        "colab": {
          "base_uri": "https://localhost:8080/"
        },
        "id": "gfDDNHbBOX7W",
        "outputId": "9e53843b-f2a4-48ef-bc04-03a9e8b7b673"
      },
      "source": [
        "!pip install -q git+https://www.github.com/google/neural-tangents\n",
        "\n",
        "import numpy as np\n",
        "import math\n",
        "import matplotlib.pyplot as plt\n",
        "import jax.numpy as jnp\n",
        "\n",
        "from jax import random\n",
        "from jax.experimental import optimizers\n",
        "from jax.api import jit, grad, vmap\n",
        "import functools\n",
        "import neural_tangents as nt\n",
        "from neural_tangents import stax\n",
        "import sys\n",
        "\n",
        "from jax.config import config\n",
        "config.update(\"jax_debug_nans\", True)\n",
        "\n",
        "\n",
        "import tensorflow as tf\n",
        "import tensorflow_datasets as tfds\n",
        "import matplotlib.pyplot as plt\n",
        "from mpl_toolkits.mplot3d import Axes3D\n",
        "from google.colab import drive\n",
        "import scipy as sp\n",
        "import scipy.optimize\n",
        "import pandas as pd\n",
        "\n",
        "from jax.experimental.ode import odeint\n",
        "\n",
        "#drive.mount('/content/gdrive', force_remount=True)\n",
        "#root_dir = \"/content/gdrive/My Drive/\""
      ],
      "execution_count": null,
      "outputs": [
        {
          "output_type": "stream",
          "text": [
            "  Building wheel for neural-tangents (setup.py) ... \u001b[?25l\u001b[?25hdone\n"
          ],
          "name": "stdout"
        }
      ]
    },
    {
      "cell_type": "code",
      "metadata": {
        "colab": {
          "base_uri": "https://localhost:8080/"
        },
        "id": "y4N7yEobxYhC",
        "outputId": "0934d44e-c29d-458c-e88c-20dbab8e40f8"
      },
      "source": [
        "drive.mount('/content/gdrive', force_remount=True)\n",
        "root_dir = \"/content/gdrive/My Drive/\""
      ],
      "execution_count": null,
      "outputs": [
        {
          "output_type": "stream",
          "text": [
            "Mounted at /content/gdrive\n"
          ],
          "name": "stdout"
        }
      ]
    },
    {
      "cell_type": "code",
      "metadata": {
        "colab": {
          "base_uri": "https://localhost:8080/",
          "height": 219,
          "referenced_widgets": [
            "87ae51776759457db0e7ce64c5841134",
            "a742bd0a700a4041952bb043c4626913",
            "8b6861aae2d1448c8f083fa214b57b5e",
            "65fc8ff70cd0479990444bdfbd682700",
            "f18a9fadf75241c096d77569e38dc820",
            "d9180bc241304b15809c1b6fc11157d9",
            "36c4879e76fd443a947274f950e18f51",
            "1777ea77677f4a68ab18f15f38ca8c7c"
          ]
        },
        "id": "ARrHhAhRxdK6",
        "outputId": "4c59c431-8731-46a7-cfaf-c1a56a28f474"
      },
      "source": [
        "num_tot = 50000\n",
        "num_classes = 10\n",
        "name = 'mnist'\n",
        "ds = tfds.load(name, split=tfds.Split.TRAIN).shuffle(1024).batch(num_tot)\n",
        "\n",
        "plt.rcParams.update({'font.size': 12})\n",
        "\n",
        "for i,ex in enumerate(ds):\n",
        "  Xtf = ex['image']\n",
        "  image = Xtf.numpy() / 255.0\n",
        "  X = np.reshape(image, (image.shape[0], image.shape[1]*image.shape[2]*image.shape[3]))\n",
        "  image = jnp.array( image.transpose((0,3,1,2)) )\n",
        "  y = ex['label'].numpy()\n",
        "  y_mat = np.eye(10)[y]\n",
        "  break\n",
        "\n",
        "ds = tfds.load(name, split=tfds.Split.TEST).shuffle(1024).batch(num_tot)\n",
        "\n",
        "for i,ex in enumerate(ds):\n",
        "  Xtf_te = ex['image']\n",
        "  image_test = Xtf_te.numpy() / 255.0\n",
        "  print(image_test.shape)\n",
        "  Xte = np.reshape(image_test, (image_test.shape[0], image_test.shape[1]*image_test.shape[2]*image_test.shape[3]))\n",
        "  image_test = image_test.transpose((0,3,1,2))\n",
        "  yte = ex['label'].numpy()\n",
        "  y_mat_te = np.eye(10)[yte]\n",
        "  break"
      ],
      "execution_count": null,
      "outputs": [
        {
          "output_type": "stream",
          "text": [
            "\u001b[1mDownloading and preparing dataset mnist/3.0.1 (download: 11.06 MiB, generated: 21.00 MiB, total: 32.06 MiB) to /root/tensorflow_datasets/mnist/3.0.1...\u001b[0m\n"
          ],
          "name": "stdout"
        },
        {
          "output_type": "stream",
          "text": [
            "WARNING:absl:Dataset mnist is hosted on GCS. It will automatically be downloaded to your\n",
            "local data directory. If you'd instead prefer to read directly from our public\n",
            "GCS bucket (recommended if you're running on GCP), you can instead pass\n",
            "`try_gcs=True` to `tfds.load` or set `data_dir=gs://tfds-data/datasets`.\n",
            "\n"
          ],
          "name": "stderr"
        },
        {
          "output_type": "display_data",
          "data": {
            "application/vnd.jupyter.widget-view+json": {
              "model_id": "87ae51776759457db0e7ce64c5841134",
              "version_minor": 0,
              "version_major": 2
            },
            "text/plain": [
              "HBox(children=(FloatProgress(value=0.0, description='Dl Completed...', max=4.0, style=ProgressStyle(descriptio…"
            ]
          },
          "metadata": {
            "tags": []
          }
        },
        {
          "output_type": "stream",
          "text": [
            "\n",
            "\n",
            "\u001b[1mDataset mnist downloaded and prepared to /root/tensorflow_datasets/mnist/3.0.1. Subsequent calls will reuse this data.\u001b[0m\n",
            "(10000, 28, 28, 1)\n"
          ],
          "name": "stdout"
        }
      ]
    },
    {
      "cell_type": "code",
      "metadata": {
        "id": "AAAiwxiIxwsN"
      },
      "source": [
        "\n",
        "\n",
        "def fully_connected(width, depth):\n",
        "  layers = []\n",
        "  for l in range(depth):\n",
        "    layers += [stax.Dense(width), stax.Relu()]\n",
        "  layers += [stax.Dense(10)]\n",
        "  return stax.serial(*layers)\n",
        "\n",
        "\n",
        "def convnet(k, depth, pool = True):\n",
        "  layers = []\n",
        "  for l in range(depth):\n",
        "    #layers += [stax.Conv(k, (3, 3), (1,1)), stax.Relu()]\n",
        "    layers += [stax.Conv(k, (3, 3), padding='SAME'), stax.Relu()]\n",
        "  if pool == True:\n",
        "    layers += [stax.GlobalAvgPool(), stax.Dense(10)]\n",
        "  else:\n",
        "    layers += [stax.Flatten(), stax.Dense(10)]\n",
        "  return stax.serial(*layers)\n"
      ],
      "execution_count": null,
      "outputs": []
    },
    {
      "cell_type": "code",
      "metadata": {
        "id": "kQAQaSUmxz00"
      },
      "source": [
        "width = 5000\n",
        "depth_vals = [1,2,5]\n",
        "\n",
        "all_eigs = []\n",
        "all_v = []\n",
        "all_K = []\n",
        "\n",
        "P_sub = 10000\n",
        "\n",
        "for i, d in enumerate(depth_vals):\n",
        "  init_fn, apply_fn, kernel_fn = fully_connected(width, d)\n",
        "  \n",
        "  K = kernel_fn(X[0:P_sub,:], None, 'ntk')\n",
        "  all_K += [K]\n",
        "\n",
        "  eigs, vec = jnp.linalg.eigh(1/K.shape[0] * K)\n",
        "\n",
        "  v = 1/K.shape[0] * jnp.sum( (vec.T @ y_mat[0:P_sub,:])**2 , axis = 1)\n",
        "  indsort = jnp.argsort(eigs)[::-1]\n",
        "\n",
        "\n",
        "  all_eigs += [ eigs[indsort] ]\n",
        "  all_v += [ v[indsort] ]\n"
      ],
      "execution_count": null,
      "outputs": []
    },
    {
      "cell_type": "code",
      "metadata": {
        "colab": {
          "base_uri": "https://localhost:8080/",
          "height": 896
        },
        "id": "AEQXerkHx7DK",
        "outputId": "417b0fbd-35f6-4861-e500-c69af3126f12"
      },
      "source": [
        "def extract_power_law(spec, start=0, end=None, xarr = []):\n",
        "  if end == None:\n",
        "    end = len(spec)\n",
        "  inds= np.linspace(start, end, end - start) \n",
        "  if len(xarr) > 0:\n",
        "    inds = xarr[start:end]\n",
        "  beta = - np.cov(np.log(inds), np.log(spec[start:end]))[0,1] / np.var(np.log(inds))\n",
        "  return beta\n",
        "\n",
        "all_b = []\n",
        "start = 10\n",
        "end = 1500\n",
        "for i,d in enumerate(depth_vals):\n",
        "  b_i = extract_power_law( all_eigs[i], start,end)\n",
        "  eig_i = all_eigs[i]/all_eigs[i][0]\n",
        "  plt.loglog( np.linspace(1,len(all_eigs[i]), len(all_eigs[i])), eig_i , label = r'Depth $ = %d$' % d)\n",
        "  pred =  np.linspace(start,end, end-start)**(-b_i)\n",
        "  pred = pred * np.mean(eig_i[start:end]) /  np.mean(pred)\n",
        "  plt.loglog( np.linspace(start, end, end-start), pred  , '--', color = 'black')\n",
        "  all_b += [b_i]\n",
        "plt.xlabel(r'$k$',fontsize = 20)\n",
        "plt.ylabel(r'$\\lambda_k$',fontsize =20)\n",
        "#plt.title('Kernel Eigenvalues', fontsize = 20)\n",
        "plt.legend()\n",
        "plt.tight_layout()\n",
        "plt.savefig(root_dir + 'mnist_spectra_scaling_exponents_depth_no_fit.pdf')\n",
        "plt.show()\n",
        "print(all_b)\n",
        "\n",
        "all_a = []\n",
        "for i, d in enumerate(depth_vals): \n",
        "  plt.loglog(all_v[i], label = r'Depth $ = %d$' % d)\n",
        "  a_i = extract_power_law( all_v[i], start,end)\n",
        "  all_a += [a_i]\n",
        "  pred = np.linspace(start,end, end-start)**(-a_i)\n",
        "  pred = pred/np.mean(pred) * np.mean(all_v[i][start:end])\n",
        "  plt.loglog( np.linspace(start,end, end-start), pred, '--', color = 'black' )\n",
        "\n",
        "plt.xlabel(r'$k$',fontsize = 20)\n",
        "plt.ylabel(r'$v_k^2$',fontsize =20)\n",
        "#plt.title('Task Power Spectrum', fontsize= 20)\n",
        "plt.legend()\n",
        "plt.tight_layout()\n",
        "plt.savefig(root_dir + 'mnist_task_scaling_exponents_depth_no_fit.pdf')\n",
        "plt.show()\n",
        "\n",
        "print(all_a)\n",
        "\n",
        "all_a2 = []\n",
        "for i, d in enumerate(depth_vals): \n",
        "  cum_v = np.cumsum(all_v[i]) / np.sum(all_v[i])\n",
        "  acumv = ( 1-cum_v ) * len(cum_v) / (10+len(cum_v) - np.linspace(1,len(cum_v), len(cum_v)))\n",
        "  plt.loglog(acumv, label = r'Depth $ = %d$' % d)\n",
        "  a_i = extract_power_law( acumv, start,end)\n",
        "  all_a2 += [a_i]\n",
        "  pred = np.linspace(start,end, end-start)**(-a_i)\n",
        "  pred = pred/np.mean(pred) * np.mean(1-cum_v[start:end])\n",
        "  plt.loglog( np.linspace(start,end, end-start), pred, '--', color = 'black' )\n",
        "\n",
        "plt.xlabel(r'$k$',fontsize = 20)\n",
        "plt.ylabel(r'$\\sum_{n=k}^\\infty \\lambda_n v_n^2 $',fontsize =20)\n",
        "plt.ylim([5e-2,2])\n",
        "#plt.title('Task Power Spectrum', fontsize= 20)\n",
        "plt.legend()\n",
        "plt.tight_layout()\n",
        "plt.savefig(root_dir + 'mnist_task_scaling_exponents_depth_tailsum_no_fit.pdf')\n",
        "plt.show()\n",
        "print(all_a2)"
      ],
      "execution_count": null,
      "outputs": [
        {
          "output_type": "display_data",
          "data": {
            "image/png": "[encoded data removed]",
            "text/plain": [
              "<Figure size 432x288 with 1 Axes>"
            ]
          },
          "metadata": {
            "tags": [],
            "needs_background": "light"
          }
        },
        {
          "output_type": "stream",
          "text": [
            "[1.2379162420017915, 1.0587285292070958, 0.8257389094075582]\n"
          ],
          "name": "stdout"
        },
        {
          "output_type": "display_data",
          "data": {
            "image/png": "[encoded data removed]",
            "text/plain": [
              "<Figure size 432x288 with 1 Axes>"
            ]
          },
          "metadata": {
            "tags": [],
            "needs_background": "light"
          }
        },
        {
          "output_type": "stream",
          "text": [
            "[1.2112661728196015, 1.2256794031867506, 1.2549758775964714]\n"
          ],
          "name": "stdout"
        },
        {
          "output_type": "display_data",
          "data": {
            "image/png": "[encoded data removed]",
            "text/plain": [
              "<Figure size 432x288 with 1 Axes>"
            ]
          },
          "metadata": {
            "tags": [],
            "needs_background": "light"
          }
        },
        {
          "output_type": "stream",
          "text": [
            "[0.36231614946859847, 0.3514440397749614, 0.3278644995127625]\n"
          ],
          "name": "stdout"
        }
      ]
    },
    {
      "cell_type": "code",
      "metadata": {
        "id": "fFrVyRmzzZ3R"
      },
      "source": [
        "def theory(s, teach, eta, T, m = 1, noise = 0):\n",
        "    A = jnp.eye(len(s)) - 2*eta*jnp.diag(s) + 1.0*(m+1)/m *eta**2 * jnp.diag(s**2) + 1.0/m * eta**2 * jnp.outer(s, s)\n",
        "    Inv_mat = jnp.linalg.inv(jnp.eye(A.shape[0]) - A)\n",
        "    x = s.copy()\n",
        "    theory_loss = []\n",
        "    for t in range(T):\n",
        "        losst = np.dot(x, teach) + 1.0/m * eta**2 * noise**2 * jnp.dot(s, Inv_mat @ (s-x))\n",
        "        theory_loss += [losst]\n",
        "        x = A @ x\n",
        "    return jnp.array( theory_loss )"
      ],
      "execution_count": null,
      "outputs": []
    },
    {
      "cell_type": "code",
      "metadata": {
        "colab": {
          "base_uri": "https://localhost:8080/",
          "height": 323
        },
        "id": "BOruKkfa65h0",
        "outputId": "c0d4a463-1f6c-4894-d415-2423db7615c0"
      },
      "source": [
        "T = 2500\n",
        "all_theory_curve = []\n",
        "for i, eigi in enumerate(all_eigs):\n",
        "  s = eigi\n",
        "  eta = 0.2/np.amax(eigi)\n",
        "  print(\"eta = %e\" % eta)\n",
        "  v = all_v[i]\n",
        "  all_theory_curve += [ theory(s, v/s, eta, T, m = 10) ]\n",
        "\n",
        "\n",
        "for i, ti in enumerate(all_theory_curve):\n",
        "  plt.loglog(2*all_theory_curve[i])\n",
        "plt.show()\n"
      ],
      "execution_count": null,
      "outputs": [
        {
          "output_type": "stream",
          "text": [
            "eta = 4.178560e+00\n",
            "eta = 5.691562e+00\n",
            "eta = 2.416117e+01\n"
          ],
          "name": "stdout"
        },
        {
          "output_type": "display_data",
          "data": {
            "image/png": "[encoded data removed]",
            "text/plain": [
              "<Figure size 432x288 with 1 Axes>"
            ]
          },
          "metadata": {
            "tags": [],
            "needs_background": "light"
          }
        }
      ]
    },
    {
      "cell_type": "code",
      "metadata": {
        "colab": {
          "base_uri": "https://localhost:8080/"
        },
        "id": "FCIL_H6YyAwS",
        "outputId": "b56bf9e2-1ab3-4f66-ef2d-33b350abc545"
      },
      "source": [
        "import sys\n",
        "\n",
        "width = 1000\n",
        "depth_vals = [1, 2, 5]\n",
        "\n",
        "batch_size = 10\n",
        "all_train = []\n",
        "all_test = []\n",
        "\n",
        "\n",
        "for i, d in enumerate(depth_vals):\n",
        "  print(\"Depth: %d\" % d)\n",
        "  init_fn, apply_fn, kernel_fn = fully_connected(width, d)\n",
        "  _, params = init_fn(random.PRNGKey(1), (-1,784))\n",
        "\n",
        "  loss = jit( lambda params, Xtr, ytr: 10*jnp.mean(  ( apply_fn(params, Xtr) - ytr)**2  ) )\n",
        "  test_loss = jit( lambda params: 10*jnp.mean( ( apply_fn(params, Xte[0:1000,:]) - y_mat_te[0:1000,:])**2  ) )\n",
        "  grad_fn  = jit(grad(loss, 0))\n",
        "\n",
        "  # idea: linearize network at initialization and look at feature eigendecomposition\n",
        "  # compare linearized neural network to full training.\n",
        "\n",
        "  eta = 0.05/np.amax(all_eigs[i])\n",
        "\n",
        "  opt_init, opt_update, get_params = optimizers.sgd(eta)\n",
        "  opt_state = opt_init(params)\n",
        "\n",
        "  train = []\n",
        "  test = []\n",
        "  for t in range(5000):\n",
        "    start = (batch_size * t) % 50000\n",
        "    train_loss = loss(get_params(opt_state),  X[start:start+batch_size,:], y_mat[start:start+batch_size,:] )\n",
        "    opt_state = opt_update(t, grad_fn(get_params(opt_state), X[start:start+batch_size,:], y_mat[start:start+batch_size,:]) , opt_state)\n",
        "    if t >= 0:\n",
        "      train += [train_loss]\n",
        "      test  += [test_loss(get_params(opt_state))]\n",
        "    else:\n",
        "      train += [ t/(t+1) * train[-1] + 1/(t+1) * train_loss ]\n",
        "      test += [t/(t+1) * test[-1] + 1/(1+t) * test_loss(get_params(opt_state))]\n",
        "\n",
        "    #sys.stdout(loss(get_params(opt_state)))\n",
        "    if t % 10 ==0:\n",
        "      sys.stdout.write('\\r loss: %.4f | train_step: %d' % (test[-1], t))\n",
        "  print(\" \")\n",
        "\n",
        "  all_train += [train]\n",
        "  all_test += [test]\n",
        "\n",
        "\n",
        "\n"
      ],
      "execution_count": null,
      "outputs": [
        {
          "output_type": "stream",
          "text": [
            "Depth: 1\n",
            " loss: 0.3051 | train_step: 4990 \n",
            " \n",
            "Linearized Net $D = 1$\n",
            " loss: 0.3117 | train_step: 4990 \n",
            "Depth: 2\n",
            " loss: 0.2491 | train_step: 4990 \n",
            " \n",
            "Linearized Net $D = 2$\n",
            " loss: 0.2745 | train_step: 4990 \n",
            "Depth: 5\n",
            " loss: 0.1248 | train_step: 4990 \n",
            " \n",
            "Linearized Net $D = 5$\n",
            " loss: 0.2839 | train_step: 4990 \n"
          ],
          "name": "stdout"
        }
      ]
    },
    {
      "cell_type": "code",
      "metadata": {
        "colab": {
          "base_uri": "https://localhost:8080/",
          "height": 293
        },
        "id": "pPVX2kPeeEdU",
        "outputId": "b6b3b111-0cb9-4eb5-bcc9-6e387201ac24"
      },
      "source": [
        "for i, ti in enumerate(all_test):\n",
        "  plt.loglog(ti, label = r'Depth $ = %d$' % depth_vals[i])\n",
        "  arr = jnp.linspace(100,5000, 5000)**(-all_a2[i]/all_b[i])\n",
        "  arr = arr / np.mean(arr) * np.mean(ti[100:5000])\n",
        "  plt.loglog(jnp.linspace(100,5000,5000), arr, '--', color = 'black')\n",
        "\n",
        "plt.xlabel(r'$t$',fontsize = 20)\n",
        "plt.ylabel(r'$L_t$', fontsize =20)\n",
        "plt.legend()\n",
        "plt.tight_layout()\n",
        "plt.savefig(root_dir + 'mlp_depth_scalings.pdf')\n",
        "plt.show() \n",
        "\n"
      ],
      "execution_count": null,
      "outputs": [
        {
          "output_type": "display_data",
          "data": {
            "image/png": "[encoded data removed]",
            "text/plain": [
              "<Figure size 432x288 with 1 Axes>"
            ]
          },
          "metadata": {
            "tags": [],
            "needs_background": "light"
          }
        }
      ]
    }
  ]
}