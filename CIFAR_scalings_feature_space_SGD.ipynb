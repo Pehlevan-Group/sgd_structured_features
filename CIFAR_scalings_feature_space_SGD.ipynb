{
  "nbformat": 4,
  "nbformat_minor": 0,
  "metadata": {
    "accelerator": "GPU",
    "colab": {
      "name": "CIFAR_scalings_feature_space_SGD.ipynb",
      "provenance": [],
      "collapsed_sections": [],
      "machine_shape": "hm",
      "authorship_tag": "ABX9TyOla52EjLfTbcwt6/bsqwV5",
      "include_colab_link": true
    },
    "kernelspec": {
      "display_name": "Python 3",
      "name": "python3"
    },
    "language_info": {
      "name": "python"
    },
    "widgets": {
      "application/vnd.jupyter.widget-state+json": {
        "b836cb02433e4d5e83f1f340c5398d5f": {
          "model_module": "@jupyter-widgets/controls",
          "model_name": "HBoxModel",
          "state": {
            "_view_name": "HBoxView",
            "_dom_classes": [],
            "_model_name": "HBoxModel",
            "_view_module": "@jupyter-widgets/controls",
            "_model_module_version": "1.5.0",
            "_view_count": null,
            "_view_module_version": "1.5.0",
            "box_style": "",
            "layout": "IPY_MODEL_cc674dfec5794b238cfb5391080b7bc4",
            "_model_module": "@jupyter-widgets/controls",
            "children": [
              "IPY_MODEL_50f5cabf23d0420fa4c686d4781f8e06",
              "IPY_MODEL_fa3a3918a566425b9ed7ea2e01c2343a"
            ]
          }
        },
        "cc674dfec5794b238cfb5391080b7bc4": {
          "model_module": "@jupyter-widgets/base",
          "model_name": "LayoutModel",
          "state": {
            "_view_name": "LayoutView",
            "grid_template_rows": null,
            "right": null,
            "justify_content": null,
            "_view_module": "@jupyter-widgets/base",
            "overflow": null,
            "_model_module_version": "1.2.0",
            "_view_count": null,
            "flex_flow": null,
            "width": null,
            "min_width": null,
            "border": null,
            "align_items": null,
            "bottom": null,
            "_model_module": "@jupyter-widgets/base",
            "top": null,
            "grid_column": null,
            "overflow_y": null,
            "overflow_x": null,
            "grid_auto_flow": null,
            "grid_area": null,
            "grid_template_columns": null,
            "flex": null,
            "_model_name": "LayoutModel",
            "justify_items": null,
            "grid_row": null,
            "max_height": null,
            "align_content": null,
            "visibility": null,
            "align_self": null,
            "height": null,
            "min_height": null,
            "padding": null,
            "grid_auto_rows": null,
            "grid_gap": null,
            "max_width": null,
            "order": null,
            "_view_module_version": "1.2.0",
            "grid_template_areas": null,
            "object_position": null,
            "object_fit": null,
            "grid_auto_columns": null,
            "margin": null,
            "display": null,
            "left": null
          }
        },
        "50f5cabf23d0420fa4c686d4781f8e06": {
          "model_module": "@jupyter-widgets/controls",
          "model_name": "FloatProgressModel",
          "state": {
            "_view_name": "ProgressView",
            "style": "IPY_MODEL_5b2dcb45ea4640d68087d2c12836611b",
            "_dom_classes": [],
            "description": "Dl Completed...: 100%",
            "_model_name": "FloatProgressModel",
            "bar_style": "success",
            "max": 1,
            "_view_module": "@jupyter-widgets/controls",
            "_model_module_version": "1.5.0",
            "value": 1,
            "_view_count": null,
            "_view_module_version": "1.5.0",
            "orientation": "horizontal",
            "min": 0,
            "description_tooltip": null,
            "_model_module": "@jupyter-widgets/controls",
            "layout": "IPY_MODEL_1d16285e20c0457c83f19595d58b9f15"
          }
        },
        "fa3a3918a566425b9ed7ea2e01c2343a": {
          "model_module": "@jupyter-widgets/controls",
          "model_name": "HTMLModel",
          "state": {
            "_view_name": "HTMLView",
            "style": "IPY_MODEL_082f2e487f9544adbfff827865f675f9",
            "_dom_classes": [],
            "description": "",
            "_model_name": "HTMLModel",
            "placeholder": "​",
            "_view_module": "@jupyter-widgets/controls",
            "_model_module_version": "1.5.0",
            "value": " 1/1 [00:15&lt;00:00, 15.39s/ url]",
            "_view_count": null,
            "_view_module_version": "1.5.0",
            "description_tooltip": null,
            "_model_module": "@jupyter-widgets/controls",
            "layout": "IPY_MODEL_c7184af1725048d3b35e2510dededd3d"
          }
        },
        "5b2dcb45ea4640d68087d2c12836611b": {
          "model_module": "@jupyter-widgets/controls",
          "model_name": "ProgressStyleModel",
          "state": {
            "_view_name": "StyleView",
            "_model_name": "ProgressStyleModel",
            "description_width": "initial",
            "_view_module": "@jupyter-widgets/base",
            "_model_module_version": "1.5.0",
            "_view_count": null,
            "_view_module_version": "1.2.0",
            "bar_color": null,
            "_model_module": "@jupyter-widgets/controls"
          }
        },
        "1d16285e20c0457c83f19595d58b9f15": {
          "model_module": "@jupyter-widgets/base",
          "model_name": "LayoutModel",
          "state": {
            "_view_name": "LayoutView",
            "grid_template_rows": null,
            "right": null,
            "justify_content": null,
            "_view_module": "@jupyter-widgets/base",
            "overflow": null,
            "_model_module_version": "1.2.0",
            "_view_count": null,
            "flex_flow": null,
            "width": null,
            "min_width": null,
            "border": null,
            "align_items": null,
            "bottom": null,
            "_model_module": "@jupyter-widgets/base",
            "top": null,
            "grid_column": null,
            "overflow_y": null,
            "overflow_x": null,
            "grid_auto_flow": null,
            "grid_area": null,
            "grid_template_columns": null,
            "flex": null,
            "_model_name": "LayoutModel",
            "justify_items": null,
            "grid_row": null,
            "max_height": null,
            "align_content": null,
            "visibility": null,
            "align_self": null,
            "height": null,
            "min_height": null,
            "padding": null,
            "grid_auto_rows": null,
            "grid_gap": null,
            "max_width": null,
            "order": null,
            "_view_module_version": "1.2.0",
            "grid_template_areas": null,
            "object_position": null,
            "object_fit": null,
            "grid_auto_columns": null,
            "margin": null,
            "display": null,
            "left": null
          }
        },
        "082f2e487f9544adbfff827865f675f9": {
          "model_module": "@jupyter-widgets/controls",
          "model_name": "DescriptionStyleModel",
          "state": {
            "_view_name": "StyleView",
            "_model_name": "DescriptionStyleModel",
            "description_width": "",
            "_view_module": "@jupyter-widgets/base",
            "_model_module_version": "1.5.0",
            "_view_count": null,
            "_view_module_version": "1.2.0",
            "_model_module": "@jupyter-widgets/controls"
          }
        },
        "c7184af1725048d3b35e2510dededd3d": {
          "model_module": "@jupyter-widgets/base",
          "model_name": "LayoutModel",
          "state": {
            "_view_name": "LayoutView",
            "grid_template_rows": null,
            "right": null,
            "justify_content": null,
            "_view_module": "@jupyter-widgets/base",
            "overflow": null,
            "_model_module_version": "1.2.0",
            "_view_count": null,
            "flex_flow": null,
            "width": null,
            "min_width": null,
            "border": null,
            "align_items": null,
            "bottom": null,
            "_model_module": "@jupyter-widgets/base",
            "top": null,
            "grid_column": null,
            "overflow_y": null,
            "overflow_x": null,
            "grid_auto_flow": null,
            "grid_area": null,
            "grid_template_columns": null,
            "flex": null,
            "_model_name": "LayoutModel",
            "justify_items": null,
            "grid_row": null,
            "max_height": null,
            "align_content": null,
            "visibility": null,
            "align_self": null,
            "height": null,
            "min_height": null,
            "padding": null,
            "grid_auto_rows": null,
            "grid_gap": null,
            "max_width": null,
            "order": null,
            "_view_module_version": "1.2.0",
            "grid_template_areas": null,
            "object_position": null,
            "object_fit": null,
            "grid_auto_columns": null,
            "margin": null,
            "display": null,
            "left": null
          }
        },
        "76c161ca329c4a52b254512e367222bf": {
          "model_module": "@jupyter-widgets/controls",
          "model_name": "HBoxModel",
          "state": {
            "_view_name": "HBoxView",
            "_dom_classes": [],
            "_model_name": "HBoxModel",
            "_view_module": "@jupyter-widgets/controls",
            "_model_module_version": "1.5.0",
            "_view_count": null,
            "_view_module_version": "1.5.0",
            "box_style": "",
            "layout": "IPY_MODEL_1e8496b1984940d08208e85f4d9b2f1c",
            "_model_module": "@jupyter-widgets/controls",
            "children": [
              "IPY_MODEL_8296450d2b47495b8bff472e7737df47",
              "IPY_MODEL_e254c3171ff64aaeaa91199ccaa1d840"
            ]
          }
        },
        "1e8496b1984940d08208e85f4d9b2f1c": {
          "model_module": "@jupyter-widgets/base",
          "model_name": "LayoutModel",
          "state": {
            "_view_name": "LayoutView",
            "grid_template_rows": null,
            "right": null,
            "justify_content": null,
            "_view_module": "@jupyter-widgets/base",
            "overflow": null,
            "_model_module_version": "1.2.0",
            "_view_count": null,
            "flex_flow": null,
            "width": null,
            "min_width": null,
            "border": null,
            "align_items": null,
            "bottom": null,
            "_model_module": "@jupyter-widgets/base",
            "top": null,
            "grid_column": null,
            "overflow_y": null,
            "overflow_x": null,
            "grid_auto_flow": null,
            "grid_area": null,
            "grid_template_columns": null,
            "flex": null,
            "_model_name": "LayoutModel",
            "justify_items": null,
            "grid_row": null,
            "max_height": null,
            "align_content": null,
            "visibility": null,
            "align_self": null,
            "height": null,
            "min_height": null,
            "padding": null,
            "grid_auto_rows": null,
            "grid_gap": null,
            "max_width": null,
            "order": null,
            "_view_module_version": "1.2.0",
            "grid_template_areas": null,
            "object_position": null,
            "object_fit": null,
            "grid_auto_columns": null,
            "margin": null,
            "display": null,
            "left": null
          }
        },
        "8296450d2b47495b8bff472e7737df47": {
          "model_module": "@jupyter-widgets/controls",
          "model_name": "FloatProgressModel",
          "state": {
            "_view_name": "ProgressView",
            "style": "IPY_MODEL_5c2bb72bc83d401d917fee2d12a8fdaf",
            "_dom_classes": [],
            "description": "Dl Size...: 100%",
            "_model_name": "FloatProgressModel",
            "bar_style": "success",
            "max": 1,
            "_view_module": "@jupyter-widgets/controls",
            "_model_module_version": "1.5.0",
            "value": 1,
            "_view_count": null,
            "_view_module_version": "1.5.0",
            "orientation": "horizontal",
            "min": 0,
            "description_tooltip": null,
            "_model_module": "@jupyter-widgets/controls",
            "layout": "IPY_MODEL_ccbad5b52e0c46a88936062c0f0e3bd9"
          }
        },
        "e254c3171ff64aaeaa91199ccaa1d840": {
          "model_module": "@jupyter-widgets/controls",
          "model_name": "HTMLModel",
          "state": {
            "_view_name": "HTMLView",
            "style": "IPY_MODEL_8538f7f4c2ac44898512cde5359a61fc",
            "_dom_classes": [],
            "description": "",
            "_model_name": "HTMLModel",
            "placeholder": "​",
            "_view_module": "@jupyter-widgets/controls",
            "_model_module_version": "1.5.0",
            "value": " 162/162 [00:15&lt;00:00, 10.64 MiB/s]",
            "_view_count": null,
            "_view_module_version": "1.5.0",
            "description_tooltip": null,
            "_model_module": "@jupyter-widgets/controls",
            "layout": "IPY_MODEL_0d7ab532a1a84af2a104a594f57541a0"
          }
        },
        "5c2bb72bc83d401d917fee2d12a8fdaf": {
          "model_module": "@jupyter-widgets/controls",
          "model_name": "ProgressStyleModel",
          "state": {
            "_view_name": "StyleView",
            "_model_name": "ProgressStyleModel",
            "description_width": "initial",
            "_view_module": "@jupyter-widgets/base",
            "_model_module_version": "1.5.0",
            "_view_count": null,
            "_view_module_version": "1.2.0",
            "bar_color": null,
            "_model_module": "@jupyter-widgets/controls"
          }
        },
        "ccbad5b52e0c46a88936062c0f0e3bd9": {
          "model_module": "@jupyter-widgets/base",
          "model_name": "LayoutModel",
          "state": {
            "_view_name": "LayoutView",
            "grid_template_rows": null,
            "right": null,
            "justify_content": null,
            "_view_module": "@jupyter-widgets/base",
            "overflow": null,
            "_model_module_version": "1.2.0",
            "_view_count": null,
            "flex_flow": null,
            "width": null,
            "min_width": null,
            "border": null,
            "align_items": null,
            "bottom": null,
            "_model_module": "@jupyter-widgets/base",
            "top": null,
            "grid_column": null,
            "overflow_y": null,
            "overflow_x": null,
            "grid_auto_flow": null,
            "grid_area": null,
            "grid_template_columns": null,
            "flex": null,
            "_model_name": "LayoutModel",
            "justify_items": null,
            "grid_row": null,
            "max_height": null,
            "align_content": null,
            "visibility": null,
            "align_self": null,
            "height": null,
            "min_height": null,
            "padding": null,
            "grid_auto_rows": null,
            "grid_gap": null,
            "max_width": null,
            "order": null,
            "_view_module_version": "1.2.0",
            "grid_template_areas": null,
            "object_position": null,
            "object_fit": null,
            "grid_auto_columns": null,
            "margin": null,
            "display": null,
            "left": null
          }
        },
        "8538f7f4c2ac44898512cde5359a61fc": {
          "model_module": "@jupyter-widgets/controls",
          "model_name": "DescriptionStyleModel",
          "state": {
            "_view_name": "StyleView",
            "_model_name": "DescriptionStyleModel",
            "description_width": "",
            "_view_module": "@jupyter-widgets/base",
            "_model_module_version": "1.5.0",
            "_view_count": null,
            "_view_module_version": "1.2.0",
            "_model_module": "@jupyter-widgets/controls"
          }
        },
        "0d7ab532a1a84af2a104a594f57541a0": {
          "model_module": "@jupyter-widgets/base",
          "model_name": "LayoutModel",
          "state": {
            "_view_name": "LayoutView",
            "grid_template_rows": null,
            "right": null,
            "justify_content": null,
            "_view_module": "@jupyter-widgets/base",
            "overflow": null,
            "_model_module_version": "1.2.0",
            "_view_count": null,
            "flex_flow": null,
            "width": null,
            "min_width": null,
            "border": null,
            "align_items": null,
            "bottom": null,
            "_model_module": "@jupyter-widgets/base",
            "top": null,
            "grid_column": null,
            "overflow_y": null,
            "overflow_x": null,
            "grid_auto_flow": null,
            "grid_area": null,
            "grid_template_columns": null,
            "flex": null,
            "_model_name": "LayoutModel",
            "justify_items": null,
            "grid_row": null,
            "max_height": null,
            "align_content": null,
            "visibility": null,
            "align_self": null,
            "height": null,
            "min_height": null,
            "padding": null,
            "grid_auto_rows": null,
            "grid_gap": null,
            "max_width": null,
            "order": null,
            "_view_module_version": "1.2.0",
            "grid_template_areas": null,
            "object_position": null,
            "object_fit": null,
            "grid_auto_columns": null,
            "margin": null,
            "display": null,
            "left": null
          }
        },
        "851a253c91684b59bd28f4981d69c70a": {
          "model_module": "@jupyter-widgets/controls",
          "model_name": "HBoxModel",
          "state": {
            "_view_name": "HBoxView",
            "_dom_classes": [],
            "_model_name": "HBoxModel",
            "_view_module": "@jupyter-widgets/controls",
            "_model_module_version": "1.5.0",
            "_view_count": null,
            "_view_module_version": "1.5.0",
            "box_style": "",
            "layout": "IPY_MODEL_9a167f892a714b6aa3bcad1e1b8499fc",
            "_model_module": "@jupyter-widgets/controls",
            "children": [
              "IPY_MODEL_c0276454a4bc4ab097bcafd210f39317",
              "IPY_MODEL_12077305e6334fb9aab32f9a21d42aae"
            ]
          }
        },
        "9a167f892a714b6aa3bcad1e1b8499fc": {
          "model_module": "@jupyter-widgets/base",
          "model_name": "LayoutModel",
          "state": {
            "_view_name": "LayoutView",
            "grid_template_rows": null,
            "right": null,
            "justify_content": null,
            "_view_module": "@jupyter-widgets/base",
            "overflow": null,
            "_model_module_version": "1.2.0",
            "_view_count": null,
            "flex_flow": null,
            "width": null,
            "min_width": null,
            "border": null,
            "align_items": null,
            "bottom": null,
            "_model_module": "@jupyter-widgets/base",
            "top": null,
            "grid_column": null,
            "overflow_y": null,
            "overflow_x": null,
            "grid_auto_flow": null,
            "grid_area": null,
            "grid_template_columns": null,
            "flex": null,
            "_model_name": "LayoutModel",
            "justify_items": null,
            "grid_row": null,
            "max_height": null,
            "align_content": null,
            "visibility": null,
            "align_self": null,
            "height": null,
            "min_height": null,
            "padding": null,
            "grid_auto_rows": null,
            "grid_gap": null,
            "max_width": null,
            "order": null,
            "_view_module_version": "1.2.0",
            "grid_template_areas": null,
            "object_position": null,
            "object_fit": null,
            "grid_auto_columns": null,
            "margin": null,
            "display": null,
            "left": null
          }
        },
        "c0276454a4bc4ab097bcafd210f39317": {
          "model_module": "@jupyter-widgets/controls",
          "model_name": "FloatProgressModel",
          "state": {
            "_view_name": "ProgressView",
            "style": "IPY_MODEL_dfa67f3ec7af452cbce0f9d34ed02add",
            "_dom_classes": [],
            "description": "Extraction completed...: 100%",
            "_model_name": "FloatProgressModel",
            "bar_style": "success",
            "max": 1,
            "_view_module": "@jupyter-widgets/controls",
            "_model_module_version": "1.5.0",
            "value": 1,
            "_view_count": null,
            "_view_module_version": "1.5.0",
            "orientation": "horizontal",
            "min": 0,
            "description_tooltip": null,
            "_model_module": "@jupyter-widgets/controls",
            "layout": "IPY_MODEL_de01f4edaa274151b3db317b9de6b7b4"
          }
        },
        "12077305e6334fb9aab32f9a21d42aae": {
          "model_module": "@jupyter-widgets/controls",
          "model_name": "HTMLModel",
          "state": {
            "_view_name": "HTMLView",
            "style": "IPY_MODEL_961ce6a0c2c7458990125ce8e40dcf8b",
            "_dom_classes": [],
            "description": "",
            "_model_name": "HTMLModel",
            "placeholder": "​",
            "_view_module": "@jupyter-widgets/controls",
            "_model_module_version": "1.5.0",
            "value": " 1/1 [00:15&lt;00:00, 15.18s/ file]",
            "_view_count": null,
            "_view_module_version": "1.5.0",
            "description_tooltip": null,
            "_model_module": "@jupyter-widgets/controls",
            "layout": "IPY_MODEL_b58685ff8c3b4c24941bdb4c8176f217"
          }
        },
        "dfa67f3ec7af452cbce0f9d34ed02add": {
          "model_module": "@jupyter-widgets/controls",
          "model_name": "ProgressStyleModel",
          "state": {
            "_view_name": "StyleView",
            "_model_name": "ProgressStyleModel",
            "description_width": "initial",
            "_view_module": "@jupyter-widgets/base",
            "_model_module_version": "1.5.0",
            "_view_count": null,
            "_view_module_version": "1.2.0",
            "bar_color": null,
            "_model_module": "@jupyter-widgets/controls"
          }
        },
        "de01f4edaa274151b3db317b9de6b7b4": {
          "model_module": "@jupyter-widgets/base",
          "model_name": "LayoutModel",
          "state": {
            "_view_name": "LayoutView",
            "grid_template_rows": null,
            "right": null,
            "justify_content": null,
            "_view_module": "@jupyter-widgets/base",
            "overflow": null,
            "_model_module_version": "1.2.0",
            "_view_count": null,
            "flex_flow": null,
            "width": null,
            "min_width": null,
            "border": null,
            "align_items": null,
            "bottom": null,
            "_model_module": "@jupyter-widgets/base",
            "top": null,
            "grid_column": null,
            "overflow_y": null,
            "overflow_x": null,
            "grid_auto_flow": null,
            "grid_area": null,
            "grid_template_columns": null,
            "flex": null,
            "_model_name": "LayoutModel",
            "justify_items": null,
            "grid_row": null,
            "max_height": null,
            "align_content": null,
            "visibility": null,
            "align_self": null,
            "height": null,
            "min_height": null,
            "padding": null,
            "grid_auto_rows": null,
            "grid_gap": null,
            "max_width": null,
            "order": null,
            "_view_module_version": "1.2.0",
            "grid_template_areas": null,
            "object_position": null,
            "object_fit": null,
            "grid_auto_columns": null,
            "margin": null,
            "display": null,
            "left": null
          }
        },
        "961ce6a0c2c7458990125ce8e40dcf8b": {
          "model_module": "@jupyter-widgets/controls",
          "model_name": "DescriptionStyleModel",
          "state": {
            "_view_name": "StyleView",
            "_model_name": "DescriptionStyleModel",
            "description_width": "",
            "_view_module": "@jupyter-widgets/base",
            "_model_module_version": "1.5.0",
            "_view_count": null,
            "_view_module_version": "1.2.0",
            "_model_module": "@jupyter-widgets/controls"
          }
        },
        "b58685ff8c3b4c24941bdb4c8176f217": {
          "model_module": "@jupyter-widgets/base",
          "model_name": "LayoutModel",
          "state": {
            "_view_name": "LayoutView",
            "grid_template_rows": null,
            "right": null,
            "justify_content": null,
            "_view_module": "@jupyter-widgets/base",
            "overflow": null,
            "_model_module_version": "1.2.0",
            "_view_count": null,
            "flex_flow": null,
            "width": null,
            "min_width": null,
            "border": null,
            "align_items": null,
            "bottom": null,
            "_model_module": "@jupyter-widgets/base",
            "top": null,
            "grid_column": null,
            "overflow_y": null,
            "overflow_x": null,
            "grid_auto_flow": null,
            "grid_area": null,
            "grid_template_columns": null,
            "flex": null,
            "_model_name": "LayoutModel",
            "justify_items": null,
            "grid_row": null,
            "max_height": null,
            "align_content": null,
            "visibility": null,
            "align_self": null,
            "height": null,
            "min_height": null,
            "padding": null,
            "grid_auto_rows": null,
            "grid_gap": null,
            "max_width": null,
            "order": null,
            "_view_module_version": "1.2.0",
            "grid_template_areas": null,
            "object_position": null,
            "object_fit": null,
            "grid_auto_columns": null,
            "margin": null,
            "display": null,
            "left": null
          }
        },
        "16ce4a8b3bca4959a9fefc27d648944c": {
          "model_module": "@jupyter-widgets/controls",
          "model_name": "HBoxModel",
          "state": {
            "_view_name": "HBoxView",
            "_dom_classes": [],
            "_model_name": "HBoxModel",
            "_view_module": "@jupyter-widgets/controls",
            "_model_module_version": "1.5.0",
            "_view_count": null,
            "_view_module_version": "1.5.0",
            "box_style": "",
            "layout": "IPY_MODEL_75c4c145d06841348867cf899af8cf71",
            "_model_module": "@jupyter-widgets/controls",
            "children": [
              "IPY_MODEL_7a429402e7344f7a92201313be49f840",
              "IPY_MODEL_b415c8c21b834ee7962f2ac960242f78"
            ]
          }
        },
        "75c4c145d06841348867cf899af8cf71": {
          "model_module": "@jupyter-widgets/base",
          "model_name": "LayoutModel",
          "state": {
            "_view_name": "LayoutView",
            "grid_template_rows": null,
            "right": null,
            "justify_content": null,
            "_view_module": "@jupyter-widgets/base",
            "overflow": null,
            "_model_module_version": "1.2.0",
            "_view_count": null,
            "flex_flow": null,
            "width": null,
            "min_width": null,
            "border": null,
            "align_items": null,
            "bottom": null,
            "_model_module": "@jupyter-widgets/base",
            "top": null,
            "grid_column": null,
            "overflow_y": null,
            "overflow_x": null,
            "grid_auto_flow": null,
            "grid_area": null,
            "grid_template_columns": null,
            "flex": null,
            "_model_name": "LayoutModel",
            "justify_items": null,
            "grid_row": null,
            "max_height": null,
            "align_content": null,
            "visibility": null,
            "align_self": null,
            "height": null,
            "min_height": null,
            "padding": null,
            "grid_auto_rows": null,
            "grid_gap": null,
            "max_width": null,
            "order": null,
            "_view_module_version": "1.2.0",
            "grid_template_areas": null,
            "object_position": null,
            "object_fit": null,
            "grid_auto_columns": null,
            "margin": null,
            "display": null,
            "left": null
          }
        },
        "7a429402e7344f7a92201313be49f840": {
          "model_module": "@jupyter-widgets/controls",
          "model_name": "FloatProgressModel",
          "state": {
            "_view_name": "ProgressView",
            "style": "IPY_MODEL_791d0481521e49e297791fa6d8221949",
            "_dom_classes": [],
            "description": "",
            "_model_name": "FloatProgressModel",
            "bar_style": "info",
            "max": 1,
            "_view_module": "@jupyter-widgets/controls",
            "_model_module_version": "1.5.0",
            "value": 1,
            "_view_count": null,
            "_view_module_version": "1.5.0",
            "orientation": "horizontal",
            "min": 0,
            "description_tooltip": null,
            "_model_module": "@jupyter-widgets/controls",
            "layout": "IPY_MODEL_58d135f996f243c58b9d16eabd785a4e"
          }
        },
        "b415c8c21b834ee7962f2ac960242f78": {
          "model_module": "@jupyter-widgets/controls",
          "model_name": "HTMLModel",
          "state": {
            "_view_name": "HTMLView",
            "style": "IPY_MODEL_4a0292e84eaf4463b72dbea23190ff0a",
            "_dom_classes": [],
            "description": "",
            "_model_name": "HTMLModel",
            "placeholder": "​",
            "_view_module": "@jupyter-widgets/controls",
            "_model_module_version": "1.5.0",
            "value": " 50000/0 [00:36&lt;00:00, 1522.06 examples/s]",
            "_view_count": null,
            "_view_module_version": "1.5.0",
            "description_tooltip": null,
            "_model_module": "@jupyter-widgets/controls",
            "layout": "IPY_MODEL_eb29d7b43d484ab0b05265686d216770"
          }
        },
        "791d0481521e49e297791fa6d8221949": {
          "model_module": "@jupyter-widgets/controls",
          "model_name": "ProgressStyleModel",
          "state": {
            "_view_name": "StyleView",
            "_model_name": "ProgressStyleModel",
            "description_width": "initial",
            "_view_module": "@jupyter-widgets/base",
            "_model_module_version": "1.5.0",
            "_view_count": null,
            "_view_module_version": "1.2.0",
            "bar_color": null,
            "_model_module": "@jupyter-widgets/controls"
          }
        },
        "58d135f996f243c58b9d16eabd785a4e": {
          "model_module": "@jupyter-widgets/base",
          "model_name": "LayoutModel",
          "state": {
            "_view_name": "LayoutView",
            "grid_template_rows": null,
            "right": null,
            "justify_content": null,
            "_view_module": "@jupyter-widgets/base",
            "overflow": null,
            "_model_module_version": "1.2.0",
            "_view_count": null,
            "flex_flow": null,
            "width": null,
            "min_width": null,
            "border": null,
            "align_items": null,
            "bottom": null,
            "_model_module": "@jupyter-widgets/base",
            "top": null,
            "grid_column": null,
            "overflow_y": null,
            "overflow_x": null,
            "grid_auto_flow": null,
            "grid_area": null,
            "grid_template_columns": null,
            "flex": null,
            "_model_name": "LayoutModel",
            "justify_items": null,
            "grid_row": null,
            "max_height": null,
            "align_content": null,
            "visibility": null,
            "align_self": null,
            "height": null,
            "min_height": null,
            "padding": null,
            "grid_auto_rows": null,
            "grid_gap": null,
            "max_width": null,
            "order": null,
            "_view_module_version": "1.2.0",
            "grid_template_areas": null,
            "object_position": null,
            "object_fit": null,
            "grid_auto_columns": null,
            "margin": null,
            "display": null,
            "left": null
          }
        },
        "4a0292e84eaf4463b72dbea23190ff0a": {
          "model_module": "@jupyter-widgets/controls",
          "model_name": "DescriptionStyleModel",
          "state": {
            "_view_name": "StyleView",
            "_model_name": "DescriptionStyleModel",
            "description_width": "",
            "_view_module": "@jupyter-widgets/base",
            "_model_module_version": "1.5.0",
            "_view_count": null,
            "_view_module_version": "1.2.0",
            "_model_module": "@jupyter-widgets/controls"
          }
        },
        "eb29d7b43d484ab0b05265686d216770": {
          "model_module": "@jupyter-widgets/base",
          "model_name": "LayoutModel",
          "state": {
            "_view_name": "LayoutView",
            "grid_template_rows": null,
            "right": null,
            "justify_content": null,
            "_view_module": "@jupyter-widgets/base",
            "overflow": null,
            "_model_module_version": "1.2.0",
            "_view_count": null,
            "flex_flow": null,
            "width": null,
            "min_width": null,
            "border": null,
            "align_items": null,
            "bottom": null,
            "_model_module": "@jupyter-widgets/base",
            "top": null,
            "grid_column": null,
            "overflow_y": null,
            "overflow_x": null,
            "grid_auto_flow": null,
            "grid_area": null,
            "grid_template_columns": null,
            "flex": null,
            "_model_name": "LayoutModel",
            "justify_items": null,
            "grid_row": null,
            "max_height": null,
            "align_content": null,
            "visibility": null,
            "align_self": null,
            "height": null,
            "min_height": null,
            "padding": null,
            "grid_auto_rows": null,
            "grid_gap": null,
            "max_width": null,
            "order": null,
            "_view_module_version": "1.2.0",
            "grid_template_areas": null,
            "object_position": null,
            "object_fit": null,
            "grid_auto_columns": null,
            "margin": null,
            "display": null,
            "left": null
          }
        },
        "25aa5994ad974aa4b6f8f6c49cb0ceeb": {
          "model_module": "@jupyter-widgets/controls",
          "model_name": "HBoxModel",
          "state": {
            "_view_name": "HBoxView",
            "_dom_classes": [],
            "_model_name": "HBoxModel",
            "_view_module": "@jupyter-widgets/controls",
            "_model_module_version": "1.5.0",
            "_view_count": null,
            "_view_module_version": "1.5.0",
            "box_style": "",
            "layout": "IPY_MODEL_379003c2eb49459b999bde6b00ebe8c8",
            "_model_module": "@jupyter-widgets/controls",
            "children": [
              "IPY_MODEL_7065a2a1f7c141c78117b42840edfad4",
              "IPY_MODEL_bfb6ef3240484e789942b67b75a19c26"
            ]
          }
        },
        "379003c2eb49459b999bde6b00ebe8c8": {
          "model_module": "@jupyter-widgets/base",
          "model_name": "LayoutModel",
          "state": {
            "_view_name": "LayoutView",
            "grid_template_rows": null,
            "right": null,
            "justify_content": null,
            "_view_module": "@jupyter-widgets/base",
            "overflow": null,
            "_model_module_version": "1.2.0",
            "_view_count": null,
            "flex_flow": null,
            "width": null,
            "min_width": null,
            "border": null,
            "align_items": null,
            "bottom": null,
            "_model_module": "@jupyter-widgets/base",
            "top": null,
            "grid_column": null,
            "overflow_y": null,
            "overflow_x": null,
            "grid_auto_flow": null,
            "grid_area": null,
            "grid_template_columns": null,
            "flex": null,
            "_model_name": "LayoutModel",
            "justify_items": null,
            "grid_row": null,
            "max_height": null,
            "align_content": null,
            "visibility": null,
            "align_self": null,
            "height": null,
            "min_height": null,
            "padding": null,
            "grid_auto_rows": null,
            "grid_gap": null,
            "max_width": null,
            "order": null,
            "_view_module_version": "1.2.0",
            "grid_template_areas": null,
            "object_position": null,
            "object_fit": null,
            "grid_auto_columns": null,
            "margin": null,
            "display": null,
            "left": null
          }
        },
        "7065a2a1f7c141c78117b42840edfad4": {
          "model_module": "@jupyter-widgets/controls",
          "model_name": "FloatProgressModel",
          "state": {
            "_view_name": "ProgressView",
            "style": "IPY_MODEL_47f1021e1bb9488f8c47432969147872",
            "_dom_classes": [],
            "description": " 88%",
            "_model_name": "FloatProgressModel",
            "bar_style": "danger",
            "max": 50000,
            "_view_module": "@jupyter-widgets/controls",
            "_model_module_version": "1.5.0",
            "value": 43862,
            "_view_count": null,
            "_view_module_version": "1.5.0",
            "orientation": "horizontal",
            "min": 0,
            "description_tooltip": null,
            "_model_module": "@jupyter-widgets/controls",
            "layout": "IPY_MODEL_18fa77a7ff1b458f80f5e21bca8eafe6"
          }
        },
        "bfb6ef3240484e789942b67b75a19c26": {
          "model_module": "@jupyter-widgets/controls",
          "model_name": "HTMLModel",
          "state": {
            "_view_name": "HTMLView",
            "style": "IPY_MODEL_c34f620b958a4876a9216a2b31abedda",
            "_dom_classes": [],
            "description": "",
            "_model_name": "HTMLModel",
            "placeholder": "​",
            "_view_module": "@jupyter-widgets/controls",
            "_model_module_version": "1.5.0",
            "value": " 43862/50000 [00:19&lt;00:00, 59735.85 examples/s]",
            "_view_count": null,
            "_view_module_version": "1.5.0",
            "description_tooltip": null,
            "_model_module": "@jupyter-widgets/controls",
            "layout": "IPY_MODEL_9c38f499bd934c0b89992d63847f6ae6"
          }
        },
        "47f1021e1bb9488f8c47432969147872": {
          "model_module": "@jupyter-widgets/controls",
          "model_name": "ProgressStyleModel",
          "state": {
            "_view_name": "StyleView",
            "_model_name": "ProgressStyleModel",
            "description_width": "initial",
            "_view_module": "@jupyter-widgets/base",
            "_model_module_version": "1.5.0",
            "_view_count": null,
            "_view_module_version": "1.2.0",
            "bar_color": null,
            "_model_module": "@jupyter-widgets/controls"
          }
        },
        "18fa77a7ff1b458f80f5e21bca8eafe6": {
          "model_module": "@jupyter-widgets/base",
          "model_name": "LayoutModel",
          "state": {
            "_view_name": "LayoutView",
            "grid_template_rows": null,
            "right": null,
            "justify_content": null,
            "_view_module": "@jupyter-widgets/base",
            "overflow": null,
            "_model_module_version": "1.2.0",
            "_view_count": null,
            "flex_flow": null,
            "width": null,
            "min_width": null,
            "border": null,
            "align_items": null,
            "bottom": null,
            "_model_module": "@jupyter-widgets/base",
            "top": null,
            "grid_column": null,
            "overflow_y": null,
            "overflow_x": null,
            "grid_auto_flow": null,
            "grid_area": null,
            "grid_template_columns": null,
            "flex": null,
            "_model_name": "LayoutModel",
            "justify_items": null,
            "grid_row": null,
            "max_height": null,
            "align_content": null,
            "visibility": null,
            "align_self": null,
            "height": null,
            "min_height": null,
            "padding": null,
            "grid_auto_rows": null,
            "grid_gap": null,
            "max_width": null,
            "order": null,
            "_view_module_version": "1.2.0",
            "grid_template_areas": null,
            "object_position": null,
            "object_fit": null,
            "grid_auto_columns": null,
            "margin": null,
            "display": null,
            "left": null
          }
        },
        "c34f620b958a4876a9216a2b31abedda": {
          "model_module": "@jupyter-widgets/controls",
          "model_name": "DescriptionStyleModel",
          "state": {
            "_view_name": "StyleView",
            "_model_name": "DescriptionStyleModel",
            "description_width": "",
            "_view_module": "@jupyter-widgets/base",
            "_model_module_version": "1.5.0",
            "_view_count": null,
            "_view_module_version": "1.2.0",
            "_model_module": "@jupyter-widgets/controls"
          }
        },
        "9c38f499bd934c0b89992d63847f6ae6": {
          "model_module": "@jupyter-widgets/base",
          "model_name": "LayoutModel",
          "state": {
            "_view_name": "LayoutView",
            "grid_template_rows": null,
            "right": null,
            "justify_content": null,
            "_view_module": "@jupyter-widgets/base",
            "overflow": null,
            "_model_module_version": "1.2.0",
            "_view_count": null,
            "flex_flow": null,
            "width": null,
            "min_width": null,
            "border": null,
            "align_items": null,
            "bottom": null,
            "_model_module": "@jupyter-widgets/base",
            "top": null,
            "grid_column": null,
            "overflow_y": null,
            "overflow_x": null,
            "grid_auto_flow": null,
            "grid_area": null,
            "grid_template_columns": null,
            "flex": null,
            "_model_name": "LayoutModel",
            "justify_items": null,
            "grid_row": null,
            "max_height": null,
            "align_content": null,
            "visibility": null,
            "align_self": null,
            "height": null,
            "min_height": null,
            "padding": null,
            "grid_auto_rows": null,
            "grid_gap": null,
            "max_width": null,
            "order": null,
            "_view_module_version": "1.2.0",
            "grid_template_areas": null,
            "object_position": null,
            "object_fit": null,
            "grid_auto_columns": null,
            "margin": null,
            "display": null,
            "left": null
          }
        },
        "638dee6c11a34fabbf83c4b9ec54f277": {
          "model_module": "@jupyter-widgets/controls",
          "model_name": "HBoxModel",
          "state": {
            "_view_name": "HBoxView",
            "_dom_classes": [],
            "_model_name": "HBoxModel",
            "_view_module": "@jupyter-widgets/controls",
            "_model_module_version": "1.5.0",
            "_view_count": null,
            "_view_module_version": "1.5.0",
            "box_style": "",
            "layout": "IPY_MODEL_5cfbea35e95a4e3fb0749ed72eaf497f",
            "_model_module": "@jupyter-widgets/controls",
            "children": [
              "IPY_MODEL_717cba4b4ea34ff69d2a52eea9ebdc0a",
              "IPY_MODEL_7a6fb8c66c864557a937c94dfdcfd8db"
            ]
          }
        },
        "5cfbea35e95a4e3fb0749ed72eaf497f": {
          "model_module": "@jupyter-widgets/base",
          "model_name": "LayoutModel",
          "state": {
            "_view_name": "LayoutView",
            "grid_template_rows": null,
            "right": null,
            "justify_content": null,
            "_view_module": "@jupyter-widgets/base",
            "overflow": null,
            "_model_module_version": "1.2.0",
            "_view_count": null,
            "flex_flow": null,
            "width": null,
            "min_width": null,
            "border": null,
            "align_items": null,
            "bottom": null,
            "_model_module": "@jupyter-widgets/base",
            "top": null,
            "grid_column": null,
            "overflow_y": null,
            "overflow_x": null,
            "grid_auto_flow": null,
            "grid_area": null,
            "grid_template_columns": null,
            "flex": null,
            "_model_name": "LayoutModel",
            "justify_items": null,
            "grid_row": null,
            "max_height": null,
            "align_content": null,
            "visibility": null,
            "align_self": null,
            "height": null,
            "min_height": null,
            "padding": null,
            "grid_auto_rows": null,
            "grid_gap": null,
            "max_width": null,
            "order": null,
            "_view_module_version": "1.2.0",
            "grid_template_areas": null,
            "object_position": null,
            "object_fit": null,
            "grid_auto_columns": null,
            "margin": null,
            "display": null,
            "left": null
          }
        },
        "717cba4b4ea34ff69d2a52eea9ebdc0a": {
          "model_module": "@jupyter-widgets/controls",
          "model_name": "FloatProgressModel",
          "state": {
            "_view_name": "ProgressView",
            "style": "IPY_MODEL_233cf564d6924bd9bb45a72ca1cf968a",
            "_dom_classes": [],
            "description": "",
            "_model_name": "FloatProgressModel",
            "bar_style": "info",
            "max": 1,
            "_view_module": "@jupyter-widgets/controls",
            "_model_module_version": "1.5.0",
            "value": 1,
            "_view_count": null,
            "_view_module_version": "1.5.0",
            "orientation": "horizontal",
            "min": 0,
            "description_tooltip": null,
            "_model_module": "@jupyter-widgets/controls",
            "layout": "IPY_MODEL_2b086f8e45c540e0bc9de1e93ca32723"
          }
        },
        "7a6fb8c66c864557a937c94dfdcfd8db": {
          "model_module": "@jupyter-widgets/controls",
          "model_name": "HTMLModel",
          "state": {
            "_view_name": "HTMLView",
            "style": "IPY_MODEL_8e93da5bf567435784b51ca96817baee",
            "_dom_classes": [],
            "description": "",
            "_model_name": "HTMLModel",
            "placeholder": "​",
            "_view_module": "@jupyter-widgets/controls",
            "_model_module_version": "1.5.0",
            "value": " 10000/0 [00:06&lt;00:00, 1524.51 examples/s]",
            "_view_count": null,
            "_view_module_version": "1.5.0",
            "description_tooltip": null,
            "_model_module": "@jupyter-widgets/controls",
            "layout": "IPY_MODEL_b1f8695742184421bc464edaffcb1459"
          }
        },
        "233cf564d6924bd9bb45a72ca1cf968a": {
          "model_module": "@jupyter-widgets/controls",
          "model_name": "ProgressStyleModel",
          "state": {
            "_view_name": "StyleView",
            "_model_name": "ProgressStyleModel",
            "description_width": "initial",
            "_view_module": "@jupyter-widgets/base",
            "_model_module_version": "1.5.0",
            "_view_count": null,
            "_view_module_version": "1.2.0",
            "bar_color": null,
            "_model_module": "@jupyter-widgets/controls"
          }
        },
        "2b086f8e45c540e0bc9de1e93ca32723": {
          "model_module": "@jupyter-widgets/base",
          "model_name": "LayoutModel",
          "state": {
            "_view_name": "LayoutView",
            "grid_template_rows": null,
            "right": null,
            "justify_content": null,
            "_view_module": "@jupyter-widgets/base",
            "overflow": null,
            "_model_module_version": "1.2.0",
            "_view_count": null,
            "flex_flow": null,
            "width": null,
            "min_width": null,
            "border": null,
            "align_items": null,
            "bottom": null,
            "_model_module": "@jupyter-widgets/base",
            "top": null,
            "grid_column": null,
            "overflow_y": null,
            "overflow_x": null,
            "grid_auto_flow": null,
            "grid_area": null,
            "grid_template_columns": null,
            "flex": null,
            "_model_name": "LayoutModel",
            "justify_items": null,
            "grid_row": null,
            "max_height": null,
            "align_content": null,
            "visibility": null,
            "align_self": null,
            "height": null,
            "min_height": null,
            "padding": null,
            "grid_auto_rows": null,
            "grid_gap": null,
            "max_width": null,
            "order": null,
            "_view_module_version": "1.2.0",
            "grid_template_areas": null,
            "object_position": null,
            "object_fit": null,
            "grid_auto_columns": null,
            "margin": null,
            "display": null,
            "left": null
          }
        },
        "8e93da5bf567435784b51ca96817baee": {
          "model_module": "@jupyter-widgets/controls",
          "model_name": "DescriptionStyleModel",
          "state": {
            "_view_name": "StyleView",
            "_model_name": "DescriptionStyleModel",
            "description_width": "",
            "_view_module": "@jupyter-widgets/base",
            "_model_module_version": "1.5.0",
            "_view_count": null,
            "_view_module_version": "1.2.0",
            "_model_module": "@jupyter-widgets/controls"
          }
        },
        "b1f8695742184421bc464edaffcb1459": {
          "model_module": "@jupyter-widgets/base",
          "model_name": "LayoutModel",
          "state": {
            "_view_name": "LayoutView",
            "grid_template_rows": null,
            "right": null,
            "justify_content": null,
            "_view_module": "@jupyter-widgets/base",
            "overflow": null,
            "_model_module_version": "1.2.0",
            "_view_count": null,
            "flex_flow": null,
            "width": null,
            "min_width": null,
            "border": null,
            "align_items": null,
            "bottom": null,
            "_model_module": "@jupyter-widgets/base",
            "top": null,
            "grid_column": null,
            "overflow_y": null,
            "overflow_x": null,
            "grid_auto_flow": null,
            "grid_area": null,
            "grid_template_columns": null,
            "flex": null,
            "_model_name": "LayoutModel",
            "justify_items": null,
            "grid_row": null,
            "max_height": null,
            "align_content": null,
            "visibility": null,
            "align_self": null,
            "height": null,
            "min_height": null,
            "padding": null,
            "grid_auto_rows": null,
            "grid_gap": null,
            "max_width": null,
            "order": null,
            "_view_module_version": "1.2.0",
            "grid_template_areas": null,
            "object_position": null,
            "object_fit": null,
            "grid_auto_columns": null,
            "margin": null,
            "display": null,
            "left": null
          }
        },
        "f1014b853ad74574a1292742a9b3eaaa": {
          "model_module": "@jupyter-widgets/controls",
          "model_name": "HBoxModel",
          "state": {
            "_view_name": "HBoxView",
            "_dom_classes": [],
            "_model_name": "HBoxModel",
            "_view_module": "@jupyter-widgets/controls",
            "_model_module_version": "1.5.0",
            "_view_count": null,
            "_view_module_version": "1.5.0",
            "box_style": "",
            "layout": "IPY_MODEL_0f4f3ae1ead04e26b8a2e458d7102c97",
            "_model_module": "@jupyter-widgets/controls",
            "children": [
              "IPY_MODEL_8d76c34296a44c07a63c263dffe681bf",
              "IPY_MODEL_94fd7c70cc0f4e698ae2cc8606acecd0"
            ]
          }
        },
        "0f4f3ae1ead04e26b8a2e458d7102c97": {
          "model_module": "@jupyter-widgets/base",
          "model_name": "LayoutModel",
          "state": {
            "_view_name": "LayoutView",
            "grid_template_rows": null,
            "right": null,
            "justify_content": null,
            "_view_module": "@jupyter-widgets/base",
            "overflow": null,
            "_model_module_version": "1.2.0",
            "_view_count": null,
            "flex_flow": null,
            "width": null,
            "min_width": null,
            "border": null,
            "align_items": null,
            "bottom": null,
            "_model_module": "@jupyter-widgets/base",
            "top": null,
            "grid_column": null,
            "overflow_y": null,
            "overflow_x": null,
            "grid_auto_flow": null,
            "grid_area": null,
            "grid_template_columns": null,
            "flex": null,
            "_model_name": "LayoutModel",
            "justify_items": null,
            "grid_row": null,
            "max_height": null,
            "align_content": null,
            "visibility": null,
            "align_self": null,
            "height": null,
            "min_height": null,
            "padding": null,
            "grid_auto_rows": null,
            "grid_gap": null,
            "max_width": null,
            "order": null,
            "_view_module_version": "1.2.0",
            "grid_template_areas": null,
            "object_position": null,
            "object_fit": null,
            "grid_auto_columns": null,
            "margin": null,
            "display": null,
            "left": null
          }
        },
        "8d76c34296a44c07a63c263dffe681bf": {
          "model_module": "@jupyter-widgets/controls",
          "model_name": "FloatProgressModel",
          "state": {
            "_view_name": "ProgressView",
            "style": "IPY_MODEL_3099a6a7315b40e5a7512bbace235607",
            "_dom_classes": [],
            "description": " 89%",
            "_model_name": "FloatProgressModel",
            "bar_style": "danger",
            "max": 10000,
            "_view_module": "@jupyter-widgets/controls",
            "_model_module_version": "1.5.0",
            "value": 8877,
            "_view_count": null,
            "_view_module_version": "1.5.0",
            "orientation": "horizontal",
            "min": 0,
            "description_tooltip": null,
            "_model_module": "@jupyter-widgets/controls",
            "layout": "IPY_MODEL_026eb00ef9ee444a9490c62da9917f25"
          }
        },
        "94fd7c70cc0f4e698ae2cc8606acecd0": {
          "model_module": "@jupyter-widgets/controls",
          "model_name": "HTMLModel",
          "state": {
            "_view_name": "HTMLView",
            "style": "IPY_MODEL_871d165cfcf5468485d3af35e70f98ed",
            "_dom_classes": [],
            "description": "",
            "_model_name": "HTMLModel",
            "placeholder": "​",
            "_view_module": "@jupyter-widgets/controls",
            "_model_module_version": "1.5.0",
            "value": " 8877/10000 [00:00&lt;00:00, 88769.87 examples/s]",
            "_view_count": null,
            "_view_module_version": "1.5.0",
            "description_tooltip": null,
            "_model_module": "@jupyter-widgets/controls",
            "layout": "IPY_MODEL_d97c0e5c8ace411cbcdc0a123f0a8ad1"
          }
        },
        "3099a6a7315b40e5a7512bbace235607": {
          "model_module": "@jupyter-widgets/controls",
          "model_name": "ProgressStyleModel",
          "state": {
            "_view_name": "StyleView",
            "_model_name": "ProgressStyleModel",
            "description_width": "initial",
            "_view_module": "@jupyter-widgets/base",
            "_model_module_version": "1.5.0",
            "_view_count": null,
            "_view_module_version": "1.2.0",
            "bar_color": null,
            "_model_module": "@jupyter-widgets/controls"
          }
        },
        "026eb00ef9ee444a9490c62da9917f25": {
          "model_module": "@jupyter-widgets/base",
          "model_name": "LayoutModel",
          "state": {
            "_view_name": "LayoutView",
            "grid_template_rows": null,
            "right": null,
            "justify_content": null,
            "_view_module": "@jupyter-widgets/base",
            "overflow": null,
            "_model_module_version": "1.2.0",
            "_view_count": null,
            "flex_flow": null,
            "width": null,
            "min_width": null,
            "border": null,
            "align_items": null,
            "bottom": null,
            "_model_module": "@jupyter-widgets/base",
            "top": null,
            "grid_column": null,
            "overflow_y": null,
            "overflow_x": null,
            "grid_auto_flow": null,
            "grid_area": null,
            "grid_template_columns": null,
            "flex": null,
            "_model_name": "LayoutModel",
            "justify_items": null,
            "grid_row": null,
            "max_height": null,
            "align_content": null,
            "visibility": null,
            "align_self": null,
            "height": null,
            "min_height": null,
            "padding": null,
            "grid_auto_rows": null,
            "grid_gap": null,
            "max_width": null,
            "order": null,
            "_view_module_version": "1.2.0",
            "grid_template_areas": null,
            "object_position": null,
            "object_fit": null,
            "grid_auto_columns": null,
            "margin": null,
            "display": null,
            "left": null
          }
        },
        "871d165cfcf5468485d3af35e70f98ed": {
          "model_module": "@jupyter-widgets/controls",
          "model_name": "DescriptionStyleModel",
          "state": {
            "_view_name": "StyleView",
            "_model_name": "DescriptionStyleModel",
            "description_width": "",
            "_view_module": "@jupyter-widgets/base",
            "_model_module_version": "1.5.0",
            "_view_count": null,
            "_view_module_version": "1.2.0",
            "_model_module": "@jupyter-widgets/controls"
          }
        },
        "d97c0e5c8ace411cbcdc0a123f0a8ad1": {
          "model_module": "@jupyter-widgets/base",
          "model_name": "LayoutModel",
          "state": {
            "_view_name": "LayoutView",
            "grid_template_rows": null,
            "right": null,
            "justify_content": null,
            "_view_module": "@jupyter-widgets/base",
            "overflow": null,
            "_model_module_version": "1.2.0",
            "_view_count": null,
            "flex_flow": null,
            "width": null,
            "min_width": null,
            "border": null,
            "align_items": null,
            "bottom": null,
            "_model_module": "@jupyter-widgets/base",
            "top": null,
            "grid_column": null,
            "overflow_y": null,
            "overflow_x": null,
            "grid_auto_flow": null,
            "grid_area": null,
            "grid_template_columns": null,
            "flex": null,
            "_model_name": "LayoutModel",
            "justify_items": null,
            "grid_row": null,
            "max_height": null,
            "align_content": null,
            "visibility": null,
            "align_self": null,
            "height": null,
            "min_height": null,
            "padding": null,
            "grid_auto_rows": null,
            "grid_gap": null,
            "max_width": null,
            "order": null,
            "_view_module_version": "1.2.0",
            "grid_template_areas": null,
            "object_position": null,
            "object_fit": null,
            "grid_auto_columns": null,
            "margin": null,
            "display": null,
            "left": null
          }
        }
      }
    }
  },
  "cells": [
    {
      "cell_type": "markdown",
      "metadata": {
        "id": "view-in-github",
        "colab_type": "text"
      },
      "source": [
        "<a href=\"https://colab.research.google.com/github/Pehlevan-Group/sgd_structured_features/blob/main/CIFAR_scalings_feature_space_SGD.ipynb\" target=\"_parent\"><img src=\"https://colab.research.google.com/assets/colab-badge.svg\" alt=\"Open In Colab\"/></a>"
      ]
    },
    {
      "cell_type": "code",
      "metadata": {
        "colab": {
          "base_uri": "https://localhost:8080/"
        },
        "id": "NmuvHIJC7j_8",
        "outputId": "a9f9b6f1-3017-4bad-d48c-321e3473b3da"
      },
      "source": [
        "!pip install -q git+https://www.github.com/google/neural-tangents\n",
        "\n",
        "import numpy as np\n",
        "import math\n",
        "import matplotlib.pyplot as plt\n",
        "import jax.numpy as jnp\n",
        "\n",
        "from jax import random\n",
        "from jax.experimental import optimizers\n",
        "from jax.api import jit, grad, vmap\n",
        "import functools\n",
        "import neural_tangents as nt\n",
        "from neural_tangents import stax\n",
        "import sys\n",
        "\n",
        "from jax.config import config\n",
        "config.update(\"jax_debug_nans\", True)\n",
        "\n",
        "\n",
        "import tensorflow as tf\n",
        "import tensorflow_datasets as tfds\n",
        "import matplotlib.pyplot as plt\n",
        "from mpl_toolkits.mplot3d import Axes3D\n",
        "from google.colab import drive\n",
        "import scipy as sp\n",
        "import scipy.optimize\n",
        "import pandas as pd\n",
        "from jax.config import config\n",
        "config.update(\"jax_enable_x64\", True)\n",
        "\n",
        "from jax.experimental.ode import odeint\n",
        "\n",
        "#drive.mount('/content/gdrive', force_remount=True)\n",
        "#root_dir = \"/content/gdrive/My Drive/\""
      ],
      "execution_count": null,
      "outputs": [
        {
          "output_type": "stream",
          "text": [
            "  Building wheel for neural-tangents (setup.py) ... \u001b[?25l\u001b[?25hdone\n"
          ],
          "name": "stdout"
        }
      ]
    },
    {
      "cell_type": "code",
      "metadata": {
        "colab": {
          "base_uri": "https://localhost:8080/"
        },
        "id": "ZtyhhVNePXJP",
        "outputId": "26681a0a-c154-4435-ee62-c6f614c47fe0"
      },
      "source": [
        "!pip install wandb\n",
        "import wandb\n",
        "!wandb login"
      ],
      "execution_count": null,
      "outputs": [
        {
          "output_type": "stream",
          "text": [
            "Collecting wandb\n",
            "\u001b[?25l  Downloading https://files.pythonhosted.org/packages/98/5f/45439b4767334b868e1c8c35b1b0ba3747d8c21be77b79f09eed7aa3c72b/wandb-0.10.30-py2.py3-none-any.whl (1.8MB)\n",
            "\r\u001b[K     |▏                               | 10kB 17.5MB/s eta 0:00:01\r\u001b[K     |▍                               | 20kB 25.7MB/s eta 0:00:01\r\u001b[K     |▌                               | 30kB 27.5MB/s eta 0:00:01\r\u001b[K     |▊                               | 40kB 19.8MB/s eta 0:00:01\r\u001b[K     |█                               | 51kB 17.1MB/s eta 0:00:01\r\u001b[K     |█                               | 61kB 14.9MB/s eta 0:00:01\r\u001b[K     |█▎                              | 71kB 13.9MB/s eta 0:00:01\r\u001b[K     |█▌                              | 81kB 13.4MB/s eta 0:00:01\r\u001b[K     |█▋                              | 92kB 13.1MB/s eta 0:00:01\r\u001b[K     |█▉                              | 102kB 13.0MB/s eta 0:00:01\r\u001b[K     |██                              | 112kB 13.0MB/s eta 0:00:01\r\u001b[K     |██▏                             | 122kB 13.0MB/s eta 0:00:01\r\u001b[K     |██▍                             | 133kB 13.0MB/s eta 0:00:01\r\u001b[K     |██▌                             | 143kB 13.0MB/s eta 0:00:01\r\u001b[K     |██▊                             | 153kB 13.0MB/s eta 0:00:01\r\u001b[K     |███                             | 163kB 13.0MB/s eta 0:00:01\r\u001b[K     |███                             | 174kB 13.0MB/s eta 0:00:01\r\u001b[K     |███▎                            | 184kB 13.0MB/s eta 0:00:01\r\u001b[K     |███▍                            | 194kB 13.0MB/s eta 0:00:01\r\u001b[K     |███▋                            | 204kB 13.0MB/s eta 0:00:01\r\u001b[K     |███▉                            | 215kB 13.0MB/s eta 0:00:01\r\u001b[K     |████                            | 225kB 13.0MB/s eta 0:00:01\r\u001b[K     |████▏                           | 235kB 13.0MB/s eta 0:00:01\r\u001b[K     |████▍                           | 245kB 13.0MB/s eta 0:00:01\r\u001b[K     |████▌                           | 256kB 13.0MB/s eta 0:00:01\r\u001b[K     |████▊                           | 266kB 13.0MB/s eta 0:00:01\r\u001b[K     |█████                           | 276kB 13.0MB/s eta 0:00:01\r\u001b[K     |█████                           | 286kB 13.0MB/s eta 0:00:01\r\u001b[K     |█████▎                          | 296kB 13.0MB/s eta 0:00:01\r\u001b[K     |█████▍                          | 307kB 13.0MB/s eta 0:00:01\r\u001b[K     |█████▋                          | 317kB 13.0MB/s eta 0:00:01\r\u001b[K     |█████▉                          | 327kB 13.0MB/s eta 0:00:01\r\u001b[K     |██████                          | 337kB 13.0MB/s eta 0:00:01\r\u001b[K     |██████▏                         | 348kB 13.0MB/s eta 0:00:01\r\u001b[K     |██████▍                         | 358kB 13.0MB/s eta 0:00:01\r\u001b[K     |██████▌                         | 368kB 13.0MB/s eta 0:00:01\r\u001b[K     |██████▊                         | 378kB 13.0MB/s eta 0:00:01\r\u001b[K     |██████▉                         | 389kB 13.0MB/s eta 0:00:01\r\u001b[K     |███████                         | 399kB 13.0MB/s eta 0:00:01\r\u001b[K     |███████▎                        | 409kB 13.0MB/s eta 0:00:01\r\u001b[K     |███████▍                        | 419kB 13.0MB/s eta 0:00:01\r\u001b[K     |███████▋                        | 430kB 13.0MB/s eta 0:00:01\r\u001b[K     |███████▉                        | 440kB 13.0MB/s eta 0:00:01\r\u001b[K     |████████                        | 450kB 13.0MB/s eta 0:00:01\r\u001b[K     |████████▏                       | 460kB 13.0MB/s eta 0:00:01\r\u001b[K     |████████▍                       | 471kB 13.0MB/s eta 0:00:01\r\u001b[K     |████████▌                       | 481kB 13.0MB/s eta 0:00:01\r\u001b[K     |████████▊                       | 491kB 13.0MB/s eta 0:00:01\r\u001b[K     |████████▉                       | 501kB 13.0MB/s eta 0:00:01\r\u001b[K     |█████████                       | 512kB 13.0MB/s eta 0:00:01\r\u001b[K     |█████████▎                      | 522kB 13.0MB/s eta 0:00:01\r\u001b[K     |█████████▍                      | 532kB 13.0MB/s eta 0:00:01\r\u001b[K     |█████████▋                      | 542kB 13.0MB/s eta 0:00:01\r\u001b[K     |█████████▉                      | 552kB 13.0MB/s eta 0:00:01\r\u001b[K     |██████████                      | 563kB 13.0MB/s eta 0:00:01\r\u001b[K     |██████████▏                     | 573kB 13.0MB/s eta 0:00:01\r\u001b[K     |██████████▎                     | 583kB 13.0MB/s eta 0:00:01\r\u001b[K     |██████████▌                     | 593kB 13.0MB/s eta 0:00:01\r\u001b[K     |██████████▊                     | 604kB 13.0MB/s eta 0:00:01\r\u001b[K     |██████████▉                     | 614kB 13.0MB/s eta 0:00:01\r\u001b[K     |███████████                     | 624kB 13.0MB/s eta 0:00:01\r\u001b[K     |███████████▎                    | 634kB 13.0MB/s eta 0:00:01\r\u001b[K     |███████████▍                    | 645kB 13.0MB/s eta 0:00:01\r\u001b[K     |███████████▋                    | 655kB 13.0MB/s eta 0:00:01\r\u001b[K     |███████████▉                    | 665kB 13.0MB/s eta 0:00:01\r\u001b[K     |████████████                    | 675kB 13.0MB/s eta 0:00:01\r\u001b[K     |████████████▏                   | 686kB 13.0MB/s eta 0:00:01\r\u001b[K     |████████████▎                   | 696kB 13.0MB/s eta 0:00:01\r\u001b[K     |████████████▌                   | 706kB 13.0MB/s eta 0:00:01\r\u001b[K     |████████████▊                   | 716kB 13.0MB/s eta 0:00:01\r\u001b[K     |████████████▉                   | 727kB 13.0MB/s eta 0:00:01\r\u001b[K     |█████████████                   | 737kB 13.0MB/s eta 0:00:01\r\u001b[K     |█████████████▎                  | 747kB 13.0MB/s eta 0:00:01\r\u001b[K     |█████████████▍                  | 757kB 13.0MB/s eta 0:00:01\r\u001b[K     |█████████████▋                  | 768kB 13.0MB/s eta 0:00:01\r\u001b[K     |█████████████▊                  | 778kB 13.0MB/s eta 0:00:01\r\u001b[K     |██████████████                  | 788kB 13.0MB/s eta 0:00:01\r\u001b[K     |██████████████▏                 | 798kB 13.0MB/s eta 0:00:01\r\u001b[K     |██████████████▎                 | 808kB 13.0MB/s eta 0:00:01\r\u001b[K     |██████████████▌                 | 819kB 13.0MB/s eta 0:00:01\r\u001b[K     |██████████████▊                 | 829kB 13.0MB/s eta 0:00:01\r\u001b[K     |██████████████▉                 | 839kB 13.0MB/s eta 0:00:01\r\u001b[K     |███████████████                 | 849kB 13.0MB/s eta 0:00:01\r\u001b[K     |███████████████▎                | 860kB 13.0MB/s eta 0:00:01\r\u001b[K     |███████████████▍                | 870kB 13.0MB/s eta 0:00:01\r\u001b[K     |███████████████▋                | 880kB 13.0MB/s eta 0:00:01\r\u001b[K     |███████████████▊                | 890kB 13.0MB/s eta 0:00:01\r\u001b[K     |████████████████                | 901kB 13.0MB/s eta 0:00:01\r\u001b[K     |████████████████▏               | 911kB 13.0MB/s eta 0:00:01\r\u001b[K     |████████████████▎               | 921kB 13.0MB/s eta 0:00:01\r\u001b[K     |████████████████▌               | 931kB 13.0MB/s eta 0:00:01\r\u001b[K     |████████████████▊               | 942kB 13.0MB/s eta 0:00:01\r\u001b[K     |████████████████▉               | 952kB 13.0MB/s eta 0:00:01\r\u001b[K     |█████████████████               | 962kB 13.0MB/s eta 0:00:01\r\u001b[K     |█████████████████▏              | 972kB 13.0MB/s eta 0:00:01\r\u001b[K     |█████████████████▍              | 983kB 13.0MB/s eta 0:00:01\r\u001b[K     |█████████████████▋              | 993kB 13.0MB/s eta 0:00:01\r\u001b[K     |█████████████████▊              | 1.0MB 13.0MB/s eta 0:00:01\r\u001b[K     |██████████████████              | 1.0MB 13.0MB/s eta 0:00:01\r\u001b[K     |██████████████████▏             | 1.0MB 13.0MB/s eta 0:00:01\r\u001b[K     |██████████████████▎             | 1.0MB 13.0MB/s eta 0:00:01\r\u001b[K     |██████████████████▌             | 1.0MB 13.0MB/s eta 0:00:01\r\u001b[K     |██████████████████▊             | 1.1MB 13.0MB/s eta 0:00:01\r\u001b[K     |██████████████████▉             | 1.1MB 13.0MB/s eta 0:00:01\r\u001b[K     |███████████████████             | 1.1MB 13.0MB/s eta 0:00:01\r\u001b[K     |███████████████████▏            | 1.1MB 13.0MB/s eta 0:00:01\r\u001b[K     |███████████████████▍            | 1.1MB 13.0MB/s eta 0:00:01\r\u001b[K     |███████████████████▋            | 1.1MB 13.0MB/s eta 0:00:01\r\u001b[K     |███████████████████▊            | 1.1MB 13.0MB/s eta 0:00:01\r\u001b[K     |████████████████████            | 1.1MB 13.0MB/s eta 0:00:01\r\u001b[K     |████████████████████▏           | 1.1MB 13.0MB/s eta 0:00:01\r\u001b[K     |████████████████████▎           | 1.1MB 13.0MB/s eta 0:00:01\r\u001b[K     |████████████████████▌           | 1.2MB 13.0MB/s eta 0:00:01\r\u001b[K     |████████████████████▋           | 1.2MB 13.0MB/s eta 0:00:01\r\u001b[K     |████████████████████▉           | 1.2MB 13.0MB/s eta 0:00:01\r\u001b[K     |█████████████████████           | 1.2MB 13.0MB/s eta 0:00:01\r\u001b[K     |█████████████████████▏          | 1.2MB 13.0MB/s eta 0:00:01\r\u001b[K     |█████████████████████▍          | 1.2MB 13.0MB/s eta 0:00:01\r\u001b[K     |█████████████████████▋          | 1.2MB 13.0MB/s eta 0:00:01\r\u001b[K     |█████████████████████▊          | 1.2MB 13.0MB/s eta 0:00:01\r\u001b[K     |██████████████████████          | 1.2MB 13.0MB/s eta 0:00:01\r\u001b[K     |██████████████████████▏         | 1.2MB 13.0MB/s eta 0:00:01\r\u001b[K     |██████████████████████▎         | 1.3MB 13.0MB/s eta 0:00:01\r\u001b[K     |██████████████████████▌         | 1.3MB 13.0MB/s eta 0:00:01\r\u001b[K     |██████████████████████▋         | 1.3MB 13.0MB/s eta 0:00:01\r\u001b[K     |██████████████████████▉         | 1.3MB 13.0MB/s eta 0:00:01\r\u001b[K     |███████████████████████         | 1.3MB 13.0MB/s eta 0:00:01\r\u001b[K     |███████████████████████▏        | 1.3MB 13.0MB/s eta 0:00:01\r\u001b[K     |███████████████████████▍        | 1.3MB 13.0MB/s eta 0:00:01\r\u001b[K     |███████████████████████▋        | 1.3MB 13.0MB/s eta 0:00:01\r\u001b[K     |███████████████████████▊        | 1.3MB 13.0MB/s eta 0:00:01\r\u001b[K     |████████████████████████        | 1.4MB 13.0MB/s eta 0:00:01\r\u001b[K     |████████████████████████        | 1.4MB 13.0MB/s eta 0:00:01\r\u001b[K     |████████████████████████▎       | 1.4MB 13.0MB/s eta 0:00:01\r\u001b[K     |████████████████████████▌       | 1.4MB 13.0MB/s eta 0:00:01\r\u001b[K     |████████████████████████▋       | 1.4MB 13.0MB/s eta 0:00:01\r\u001b[K     |████████████████████████▉       | 1.4MB 13.0MB/s eta 0:00:01\r\u001b[K     |█████████████████████████       | 1.4MB 13.0MB/s eta 0:00:01\r\u001b[K     |█████████████████████████▏      | 1.4MB 13.0MB/s eta 0:00:01\r\u001b[K     |█████████████████████████▍      | 1.4MB 13.0MB/s eta 0:00:01\r\u001b[K     |█████████████████████████▋      | 1.4MB 13.0MB/s eta 0:00:01\r\u001b[K     |█████████████████████████▊      | 1.5MB 13.0MB/s eta 0:00:01\r\u001b[K     |██████████████████████████      | 1.5MB 13.0MB/s eta 0:00:01\r\u001b[K     |██████████████████████████      | 1.5MB 13.0MB/s eta 0:00:01\r\u001b[K     |██████████████████████████▎     | 1.5MB 13.0MB/s eta 0:00:01\r\u001b[K     |██████████████████████████▌     | 1.5MB 13.0MB/s eta 0:00:01\r\u001b[K     |██████████████████████████▋     | 1.5MB 13.0MB/s eta 0:00:01\r\u001b[K     |██████████████████████████▉     | 1.5MB 13.0MB/s eta 0:00:01\r\u001b[K     |███████████████████████████     | 1.5MB 13.0MB/s eta 0:00:01\r\u001b[K     |███████████████████████████▏    | 1.5MB 13.0MB/s eta 0:00:01\r\u001b[K     |███████████████████████████▍    | 1.5MB 13.0MB/s eta 0:00:01\r\u001b[K     |███████████████████████████▌    | 1.6MB 13.0MB/s eta 0:00:01\r\u001b[K     |███████████████████████████▊    | 1.6MB 13.0MB/s eta 0:00:01\r\u001b[K     |████████████████████████████    | 1.6MB 13.0MB/s eta 0:00:01\r\u001b[K     |████████████████████████████    | 1.6MB 13.0MB/s eta 0:00:01\r\u001b[K     |████████████████████████████▎   | 1.6MB 13.0MB/s eta 0:00:01\r\u001b[K     |████████████████████████████▌   | 1.6MB 13.0MB/s eta 0:00:01\r\u001b[K     |████████████████████████████▋   | 1.6MB 13.0MB/s eta 0:00:01\r\u001b[K     |████████████████████████████▉   | 1.6MB 13.0MB/s eta 0:00:01\r\u001b[K     |█████████████████████████████   | 1.6MB 13.0MB/s eta 0:00:01\r\u001b[K     |█████████████████████████████▏  | 1.6MB 13.0MB/s eta 0:00:01\r\u001b[K     |█████████████████████████████▍  | 1.7MB 13.0MB/s eta 0:00:01\r\u001b[K     |█████████████████████████████▌  | 1.7MB 13.0MB/s eta 0:00:01\r\u001b[K     |█████████████████████████████▊  | 1.7MB 13.0MB/s eta 0:00:01\r\u001b[K     |██████████████████████████████  | 1.7MB 13.0MB/s eta 0:00:01\r\u001b[K     |██████████████████████████████  | 1.7MB 13.0MB/s eta 0:00:01\r\u001b[K     |██████████████████████████████▎ | 1.7MB 13.0MB/s eta 0:00:01\r\u001b[K     |██████████████████████████████▌ | 1.7MB 13.0MB/s eta 0:00:01\r\u001b[K     |██████████████████████████████▋ | 1.7MB 13.0MB/s eta 0:00:01\r\u001b[K     |██████████████████████████████▉ | 1.7MB 13.0MB/s eta 0:00:01\r\u001b[K     |███████████████████████████████ | 1.8MB 13.0MB/s eta 0:00:01\r\u001b[K     |███████████████████████████████▏| 1.8MB 13.0MB/s eta 0:00:01\r\u001b[K     |███████████████████████████████▍| 1.8MB 13.0MB/s eta 0:00:01\r\u001b[K     |███████████████████████████████▌| 1.8MB 13.0MB/s eta 0:00:01\r\u001b[K     |███████████████████████████████▊| 1.8MB 13.0MB/s eta 0:00:01\r\u001b[K     |████████████████████████████████| 1.8MB 13.0MB/s eta 0:00:01\r\u001b[K     |████████████████████████████████| 1.8MB 13.0MB/s \n",
            "\u001b[?25hCollecting configparser>=3.8.1\n",
            "  Downloading https://files.pythonhosted.org/packages/fd/01/ff260a18caaf4457eb028c96eeb405c4a230ca06c8ec9c1379f813caa52e/configparser-5.0.2-py3-none-any.whl\n",
            "Collecting subprocess32>=3.5.3\n",
            "\u001b[?25l  Downloading https://files.pythonhosted.org/packages/32/c8/564be4d12629b912ea431f1a50eb8b3b9d00f1a0b1ceff17f266be190007/subprocess32-3.5.4.tar.gz (97kB)\n",
            "\u001b[K     |████████████████████████████████| 102kB 12.3MB/s \n",
            "\u001b[?25hRequirement already satisfied: python-dateutil>=2.6.1 in /usr/local/lib/python3.7/dist-packages (from wandb) (2.8.1)\n",
            "Requirement already satisfied: six>=1.13.0 in /usr/local/lib/python3.7/dist-packages (from wandb) (1.15.0)\n",
            "Requirement already satisfied: psutil>=5.0.0 in /usr/local/lib/python3.7/dist-packages (from wandb) (5.4.8)\n",
            "Collecting shortuuid>=0.5.0\n",
            "  Downloading https://files.pythonhosted.org/packages/25/a6/2ecc1daa6a304e7f1b216f0896b26156b78e7c38e1211e9b798b4716c53d/shortuuid-1.0.1-py3-none-any.whl\n",
            "Requirement already satisfied: protobuf>=3.12.0 in /usr/local/lib/python3.7/dist-packages (from wandb) (3.12.4)\n",
            "Collecting sentry-sdk>=0.4.0\n",
            "\u001b[?25l  Downloading https://files.pythonhosted.org/packages/1c/4a/a54b254f67d8f4052338d54ebe90126f200693440a93ef76d254d581e3ec/sentry_sdk-1.1.0-py2.py3-none-any.whl (131kB)\n",
            "\u001b[K     |████████████████████████████████| 133kB 48.9MB/s \n",
            "\u001b[?25hRequirement already satisfied: promise<3,>=2.0 in /usr/local/lib/python3.7/dist-packages (from wandb) (2.3)\n",
            "Requirement already satisfied: requests<3,>=2.0.0 in /usr/local/lib/python3.7/dist-packages (from wandb) (2.23.0)\n",
            "Requirement already satisfied: PyYAML in /usr/local/lib/python3.7/dist-packages (from wandb) (3.13)\n",
            "Collecting GitPython>=1.0.0\n",
            "\u001b[?25l  Downloading https://files.pythonhosted.org/packages/a6/99/98019716955ba243657daedd1de8f3a88ca1f5b75057c38e959db22fb87b/GitPython-3.1.14-py3-none-any.whl (159kB)\n",
            "\u001b[K     |████████████████████████████████| 163kB 49.9MB/s \n",
            "\u001b[?25hCollecting pathtools\n",
            "  Downloading https://files.pythonhosted.org/packages/e7/7f/470d6fcdf23f9f3518f6b0b76be9df16dcc8630ad409947f8be2eb0ed13a/pathtools-0.1.2.tar.gz\n",
            "Collecting docker-pycreds>=0.4.0\n",
            "  Downloading https://files.pythonhosted.org/packages/f5/e8/f6bd1eee09314e7e6dee49cbe2c5e22314ccdb38db16c9fc72d2fa80d054/docker_pycreds-0.4.0-py2.py3-none-any.whl\n",
            "Requirement already satisfied: Click>=7.0 in /usr/local/lib/python3.7/dist-packages (from wandb) (7.1.2)\n",
            "Requirement already satisfied: setuptools in /usr/local/lib/python3.7/dist-packages (from protobuf>=3.12.0->wandb) (56.1.0)\n",
            "Requirement already satisfied: certifi in /usr/local/lib/python3.7/dist-packages (from sentry-sdk>=0.4.0->wandb) (2020.12.5)\n",
            "Requirement already satisfied: urllib3>=1.10.0 in /usr/local/lib/python3.7/dist-packages (from sentry-sdk>=0.4.0->wandb) (1.24.3)\n",
            "Requirement already satisfied: idna<3,>=2.5 in /usr/local/lib/python3.7/dist-packages (from requests<3,>=2.0.0->wandb) (2.10)\n",
            "Requirement already satisfied: chardet<4,>=3.0.2 in /usr/local/lib/python3.7/dist-packages (from requests<3,>=2.0.0->wandb) (3.0.4)\n",
            "Collecting gitdb<5,>=4.0.1\n",
            "\u001b[?25l  Downloading https://files.pythonhosted.org/packages/ea/e8/f414d1a4f0bbc668ed441f74f44c116d9816833a48bf81d22b697090dba8/gitdb-4.0.7-py3-none-any.whl (63kB)\n",
            "\u001b[K     |████████████████████████████████| 71kB 10.1MB/s \n",
            "\u001b[?25hCollecting smmap<5,>=3.0.1\n",
            "  Downloading https://files.pythonhosted.org/packages/68/ee/d540eb5e5996eb81c26ceffac6ee49041d473bc5125f2aa995cf51ec1cf1/smmap-4.0.0-py2.py3-none-any.whl\n",
            "Building wheels for collected packages: subprocess32, pathtools\n",
            "  Building wheel for subprocess32 (setup.py) ... \u001b[?25l\u001b[?25hdone\n",
            "  Created wheel for subprocess32: filename=subprocess32-3.5.4-cp37-none-any.whl size=6489 sha256=2d1fd2d883dd151705c8971a0ddaae064de62280ff2204b33bbdabfbe1c44619\n",
            "  Stored in directory: /root/.cache/pip/wheels/68/39/1a/5e402bdfdf004af1786c8b853fd92f8c4a04f22aad179654d1\n",
            "  Building wheel for pathtools (setup.py) ... \u001b[?25l\u001b[?25hdone\n",
            "  Created wheel for pathtools: filename=pathtools-0.1.2-cp37-none-any.whl size=8786 sha256=9f448c185f51f3e4615f5b36c6091738648aa11f954bc22f51bc966e0d256443\n",
            "  Stored in directory: /root/.cache/pip/wheels/0b/04/79/c3b0c3a0266a3cb4376da31e5bfe8bba0c489246968a68e843\n",
            "Successfully built subprocess32 pathtools\n",
            "Installing collected packages: configparser, subprocess32, shortuuid, sentry-sdk, smmap, gitdb, GitPython, pathtools, docker-pycreds, wandb\n",
            "Successfully installed GitPython-3.1.14 configparser-5.0.2 docker-pycreds-0.4.0 gitdb-4.0.7 pathtools-0.1.2 sentry-sdk-1.1.0 shortuuid-1.0.1 smmap-4.0.0 subprocess32-3.5.4 wandb-0.10.30\n",
            "\u001b[34m\u001b[1mwandb\u001b[0m: You can find your API key in your browser here: https://wandb.ai/authorize\n",
            "\u001b[34m\u001b[1mwandb\u001b[0m: Paste an API key from your profile and hit enter: \n",
            "\u001b[34m\u001b[1mwandb\u001b[0m: Appending key for api.wandb.ai to your netrc file: /root/.netrc\n"
          ],
          "name": "stdout"
        }
      ]
    },
    {
      "cell_type": "code",
      "metadata": {
        "id": "RZ9uKyAflrI0",
        "colab": {
          "base_uri": "https://localhost:8080/"
        },
        "outputId": "0b303f0a-d8bf-4abb-e1bb-466fd1cee10f"
      },
      "source": [
        "drive.mount('/content/gdrive', force_remount=True)\n",
        "root_dir = \"/content/gdrive/My Drive/\""
      ],
      "execution_count": null,
      "outputs": [
        {
          "output_type": "stream",
          "text": [
            "Mounted at /content/gdrive\n"
          ],
          "name": "stdout"
        }
      ]
    },
    {
      "cell_type": "code",
      "metadata": {
        "colab": {
          "base_uri": "https://localhost:8080/",
          "height": 384,
          "referenced_widgets": [
            "b836cb02433e4d5e83f1f340c5398d5f",
            "cc674dfec5794b238cfb5391080b7bc4",
            "50f5cabf23d0420fa4c686d4781f8e06",
            "fa3a3918a566425b9ed7ea2e01c2343a",
            "5b2dcb45ea4640d68087d2c12836611b",
            "1d16285e20c0457c83f19595d58b9f15",
            "082f2e487f9544adbfff827865f675f9",
            "c7184af1725048d3b35e2510dededd3d",
            "76c161ca329c4a52b254512e367222bf",
            "1e8496b1984940d08208e85f4d9b2f1c",
            "8296450d2b47495b8bff472e7737df47",
            "e254c3171ff64aaeaa91199ccaa1d840",
            "5c2bb72bc83d401d917fee2d12a8fdaf",
            "ccbad5b52e0c46a88936062c0f0e3bd9",
            "8538f7f4c2ac44898512cde5359a61fc",
            "0d7ab532a1a84af2a104a594f57541a0",
            "851a253c91684b59bd28f4981d69c70a",
            "9a167f892a714b6aa3bcad1e1b8499fc",
            "c0276454a4bc4ab097bcafd210f39317",
            "12077305e6334fb9aab32f9a21d42aae",
            "dfa67f3ec7af452cbce0f9d34ed02add",
            "de01f4edaa274151b3db317b9de6b7b4",
            "961ce6a0c2c7458990125ce8e40dcf8b",
            "b58685ff8c3b4c24941bdb4c8176f217",
            "16ce4a8b3bca4959a9fefc27d648944c",
            "75c4c145d06841348867cf899af8cf71",
            "7a429402e7344f7a92201313be49f840",
            "b415c8c21b834ee7962f2ac960242f78",
            "791d0481521e49e297791fa6d8221949",
            "58d135f996f243c58b9d16eabd785a4e",
            "4a0292e84eaf4463b72dbea23190ff0a",
            "eb29d7b43d484ab0b05265686d216770",
            "25aa5994ad974aa4b6f8f6c49cb0ceeb",
            "379003c2eb49459b999bde6b00ebe8c8",
            "7065a2a1f7c141c78117b42840edfad4",
            "bfb6ef3240484e789942b67b75a19c26",
            "47f1021e1bb9488f8c47432969147872",
            "18fa77a7ff1b458f80f5e21bca8eafe6",
            "c34f620b958a4876a9216a2b31abedda",
            "9c38f499bd934c0b89992d63847f6ae6",
            "638dee6c11a34fabbf83c4b9ec54f277",
            "5cfbea35e95a4e3fb0749ed72eaf497f",
            "717cba4b4ea34ff69d2a52eea9ebdc0a",
            "7a6fb8c66c864557a937c94dfdcfd8db",
            "233cf564d6924bd9bb45a72ca1cf968a",
            "2b086f8e45c540e0bc9de1e93ca32723",
            "8e93da5bf567435784b51ca96817baee",
            "b1f8695742184421bc464edaffcb1459",
            "f1014b853ad74574a1292742a9b3eaaa",
            "0f4f3ae1ead04e26b8a2e458d7102c97",
            "8d76c34296a44c07a63c263dffe681bf",
            "94fd7c70cc0f4e698ae2cc8606acecd0",
            "3099a6a7315b40e5a7512bbace235607",
            "026eb00ef9ee444a9490c62da9917f25",
            "871d165cfcf5468485d3af35e70f98ed",
            "d97c0e5c8ace411cbcdc0a123f0a8ad1"
          ]
        },
        "id": "b4FAFZEN9FSZ",
        "outputId": "a5799307-9d77-4529-9f8d-d2ca850b925e"
      },
      "source": [
        "# Download CIFAR-10\n",
        "num_tot = 50000\n",
        "num_classes = 10\n",
        "name = 'cifar10'\n",
        "ds = tfds.load(name, split=tfds.Split.TRAIN).shuffle(1024).batch(num_tot)\n",
        "\n",
        "plt.rcParams.update({'font.size': 12})\n",
        "\n",
        "for i,ex in enumerate(ds):\n",
        "  Xtf = ex['image']\n",
        "  image = Xtf.numpy() / 255.0\n",
        "  X = np.reshape(image, (image.shape[0], image.shape[1]*image.shape[2]*image.shape[3]))\n",
        "  image = jnp.array( image.transpose((0,3,1,2)) )\n",
        "  y = ex['label'].numpy()\n",
        "  y_mat = np.eye(10)[y]\n",
        "  break\n",
        "\n",
        "ds = tfds.load(name, split=tfds.Split.TEST).shuffle(1024).batch(num_tot)\n",
        "\n",
        "for i,ex in enumerate(ds):\n",
        "  Xtf_te = ex['image']\n",
        "  image_test = Xtf_te.numpy() / 255.0\n",
        "  print(image_test.shape)\n",
        "  Xte = np.reshape(image_test, (image_test.shape[0], image_test.shape[1]*image_test.shape[2]*image_test.shape[3]))\n",
        "  image_test = image_test.transpose((0,3,1,2))\n",
        "  yte = ex['label'].numpy()\n",
        "  y_mat_te = np.eye(10)[yte]\n",
        "  break"
      ],
      "execution_count": null,
      "outputs": [
        {
          "output_type": "stream",
          "text": [
            "\u001b[1mDownloading and preparing dataset cifar10/3.0.2 (download: 162.17 MiB, generated: 132.40 MiB, total: 294.58 MiB) to /root/tensorflow_datasets/cifar10/3.0.2...\u001b[0m\n"
          ],
          "name": "stdout"
        },
        {
          "output_type": "display_data",
          "data": {
            "application/vnd.jupyter.widget-view+json": {
              "model_id": "b836cb02433e4d5e83f1f340c5398d5f",
              "version_minor": 0,
              "version_major": 2
            },
            "text/plain": [
              "HBox(children=(FloatProgress(value=1.0, bar_style='info', description='Dl Completed...', max=1.0, style=Progre…"
            ]
          },
          "metadata": {
            "tags": []
          }
        },
        {
          "output_type": "display_data",
          "data": {
            "application/vnd.jupyter.widget-view+json": {
              "model_id": "76c161ca329c4a52b254512e367222bf",
              "version_minor": 0,
              "version_major": 2
            },
            "text/plain": [
              "HBox(children=(FloatProgress(value=1.0, bar_style='info', description='Dl Size...', max=1.0, style=ProgressSty…"
            ]
          },
          "metadata": {
            "tags": []
          }
        },
        {
          "output_type": "display_data",
          "data": {
            "application/vnd.jupyter.widget-view+json": {
              "model_id": "851a253c91684b59bd28f4981d69c70a",
              "version_minor": 0,
              "version_major": 2
            },
            "text/plain": [
              "HBox(children=(FloatProgress(value=1.0, bar_style='info', description='Extraction completed...', max=1.0, styl…"
            ]
          },
          "metadata": {
            "tags": []
          }
        },
        {
          "output_type": "stream",
          "text": [
            "\n",
            "\n",
            "\n",
            "\n",
            "\n",
            "\n"
          ],
          "name": "stdout"
        },
        {
          "output_type": "display_data",
          "data": {
            "application/vnd.jupyter.widget-view+json": {
              "model_id": "16ce4a8b3bca4959a9fefc27d648944c",
              "version_minor": 0,
              "version_major": 2
            },
            "text/plain": [
              "HBox(children=(FloatProgress(value=1.0, bar_style='info', max=1.0), HTML(value='')))"
            ]
          },
          "metadata": {
            "tags": []
          }
        },
        {
          "output_type": "stream",
          "text": [
            "\rShuffling and writing examples to /root/tensorflow_datasets/cifar10/3.0.2.incompletePPA0LI/cifar10-train.tfrecord\n"
          ],
          "name": "stdout"
        },
        {
          "output_type": "display_data",
          "data": {
            "application/vnd.jupyter.widget-view+json": {
              "model_id": "25aa5994ad974aa4b6f8f6c49cb0ceeb",
              "version_minor": 0,
              "version_major": 2
            },
            "text/plain": [
              "HBox(children=(FloatProgress(value=0.0, max=50000.0), HTML(value='')))"
            ]
          },
          "metadata": {
            "tags": []
          }
        },
        {
          "output_type": "display_data",
          "data": {
            "application/vnd.jupyter.widget-view+json": {
              "model_id": "638dee6c11a34fabbf83c4b9ec54f277",
              "version_minor": 0,
              "version_major": 2
            },
            "text/plain": [
              "HBox(children=(FloatProgress(value=1.0, bar_style='info', max=1.0), HTML(value='')))"
            ]
          },
          "metadata": {
            "tags": []
          }
        },
        {
          "output_type": "stream",
          "text": [
            "Shuffling and writing examples to /root/tensorflow_datasets/cifar10/3.0.2.incompletePPA0LI/cifar10-test.tfrecord\n"
          ],
          "name": "stdout"
        },
        {
          "output_type": "display_data",
          "data": {
            "application/vnd.jupyter.widget-view+json": {
              "model_id": "f1014b853ad74574a1292742a9b3eaaa",
              "version_minor": 0,
              "version_major": 2
            },
            "text/plain": [
              "HBox(children=(FloatProgress(value=0.0, max=10000.0), HTML(value='')))"
            ]
          },
          "metadata": {
            "tags": []
          }
        },
        {
          "output_type": "stream",
          "text": [
            "\u001b[1mDataset cifar10 downloaded and prepared to /root/tensorflow_datasets/cifar10/3.0.2. Subsequent calls will reuse this data.\u001b[0m\n",
            "(10000, 32, 32, 3)\n"
          ],
          "name": "stdout"
        }
      ]
    },
    {
      "cell_type": "code",
      "metadata": {
        "id": "w0S6KEuD9Vd8"
      },
      "source": [
        "def convnet(k, depth, pool = True):\n",
        "  layers = []\n",
        "  for l in range(depth):\n",
        "    #layers += [stax.Conv(k, (3, 3), (1,1)), stax.Relu()]\n",
        "    layers += [stax.Conv(k, (3,3), padding='SAME'), stax.Relu()]\n",
        "    if pool == True:\n",
        "      layers += [stax.AvgPool((2,2), strides = (2,2))]\n",
        "  layers += [stax.Flatten(), stax.Dense(10)]\n",
        "  return stax.serial(*layers)\n",
        "\n",
        "#init_fn, apply_fn, kernel_fn=convnet(200,2)\n",
        "#kernel_fn_batched = nt.batch(kernel_fn, batch_size=250)\n",
        "\n",
        "#_, _, kernel_fn_non = convnet(200,2, pool=False)\n",
        "#kernel_fn_batched_non = nt.batch(kernel_fn, batch_size=250)\n",
        "\n",
        "\n",
        "def fully_connected(width, depth):\n",
        "  layers = []\n",
        "  for l in range(depth):\n",
        "    layers += [stax.Dense(width), stax.Relu()]\n",
        "  layers += [stax.Dense(10)]\n",
        "  return stax.serial(*layers)\n",
        "\n",
        "\n",
        "\n",
        "def WideResnetBlock(channels, strides=(1, 1), channel_mismatch=False):\n",
        "  Main = stax.serial(\n",
        "      stax.Relu(), stax.Conv(channels, (3, 3), strides, padding='SAME'),\n",
        "      stax.Relu(), stax.Conv(channels, (3, 3), padding='SAME'))\n",
        "  Shortcut = stax.Identity() if not channel_mismatch else stax.Conv(\n",
        "      channels, (3, 3), strides, padding='SAME')\n",
        "  return stax.serial(stax.FanOut(2),\n",
        "                     stax.parallel(Main, Shortcut),\n",
        "                     stax.FanInSum())\n",
        "\n",
        "def WideResnetGroup(n, channels, strides=(1, 1)):\n",
        "  blocks = []\n",
        "  blocks += [WideResnetBlock(channels, strides, channel_mismatch=True)]\n",
        "  for _ in range(n - 1):\n",
        "    blocks += [WideResnetBlock(channels, (1, 1))]\n",
        "  return stax.serial(*blocks)\n",
        "\n",
        "def WideResnet(block_size, k, num_classes):\n",
        "  return stax.serial(\n",
        "      stax.Conv(16, (3, 3), padding='SAME'),\n",
        "      WideResnetGroup(block_size, int(16 * k)),\n",
        "      WideResnetGroup(block_size, int(32 * k), (2, 2)),\n",
        "      WideResnetGroup(block_size, int(64 * k), (2, 2)),\n",
        "      stax.AvgPool((8, 8)),\n",
        "      stax.Flatten(),\n",
        "      stax.Dense(num_classes, 1., 0.))\n",
        "\n",
        "\n",
        "def MyrtleNetwork(width, depth, W_std=np.sqrt(2.0), b_std=0.):\n",
        "  layer_factor = {5: [2, 1, 1], 7: [2, 2, 2], 10: [3, 3, 3]}\n",
        "  activation_fn = stax.Relu()\n",
        "  layers = []\n",
        "  conv = functools.partial(stax.Conv, W_std=W_std, b_std=b_std, padding='SAME')\n",
        "  \n",
        "  layers += [conv(width, (3, 3)), activation_fn] * layer_factor[depth][0]\n",
        "  layers += [stax.AvgPool((2, 2), strides=(2, 2))]\n",
        "  layers += [conv(width, (3, 3)), activation_fn] * layer_factor[depth][1]\n",
        "  layers += [stax.AvgPool((2, 2), strides=(2, 2))]\n",
        "  layers += [conv(width, (3, 3)), activation_fn] * layer_factor[depth][2]\n",
        "  layers += [stax.AvgPool((2, 2), strides=(2, 2))] * 3\n",
        "  layers += [stax.Flatten(), stax.Dense(10, W_std, 0.0)]\n",
        "\n",
        "  return stax.serial(*layers)\n",
        "\n"
      ],
      "execution_count": null,
      "outputs": []
    },
    {
      "cell_type": "markdown",
      "metadata": {
        "id": "iw4bF4lb5Vow"
      },
      "source": [
        "#### Reshape image data"
      ]
    },
    {
      "cell_type": "code",
      "metadata": {
        "id": "gY463z_G9foH",
        "colab": {
          "base_uri": "https://localhost:8080/"
        },
        "outputId": "f991cd44-96e9-4369-f7b5-28e3179b9331"
      },
      "source": [
        "\n",
        "image = jnp.array(image, dtype = jnp.float64).transpose((0,2,3,1))\n",
        "image_test = jnp.array(image_test, dtype = jnp.float64).transpose((0,2,3,1))\n",
        "print(image.shape)\n",
        "print(image_test.shape)"
      ],
      "execution_count": null,
      "outputs": [
        {
          "output_type": "stream",
          "text": [
            "(50000, 32, 32, 3)\n",
            "(10000, 32, 32, 3)\n"
          ],
          "name": "stdout"
        }
      ]
    },
    {
      "cell_type": "code",
      "metadata": {
        "id": "wbNbUNwKmMKZ"
      },
      "source": [
        "width = 5000\n",
        "depth = 2\n",
        "\n",
        "all_eigs = []\n",
        "all_v = []\n",
        "all_K = []\n",
        "\n",
        "\n",
        "N_pt = 6000\n",
        "\n",
        "#_, _, kernel_fn = MyrtleNetwork(width, depth)\n",
        "_, _, kernel_fn = convnet(width, depth, pool = False)\n",
        "\n",
        "kbatch =  nt.batch(kernel_fn, batch_size=100)\n",
        "#kbatch = jit(kbatch, static_argnums=2)\n",
        "K = kbatch(image[0:N_pt,:,:,:], None, 'ntk')\n",
        "\n",
        "\n",
        "all_K += [K]\n",
        "eigs, vec = jnp.linalg.eigh(K)\n",
        "\n",
        "v = jnp.sum( ( 1/vec.shape[0] * vec.T @ y_mat[0:N_pt,:])**2 , axis = 1)\n",
        "indsort = jnp.argsort(eigs)[::-1]\n",
        "\n",
        "all_eigs += [ eigs[indsort] ]\n",
        "all_v += [ v[indsort] ]\n",
        "\n",
        "_, _, kernel_mlp = fully_connected(width, depth)\n",
        "Data = image[0:N_pt,:,:,:].reshape((N_pt, image.shape[1]*image.shape[2]*image.shape[3]))\n",
        "kbatch_mlp = nt.batch(kernel_mlp, batch_size=200)\n",
        "K_mlp = kernel_mlp(Data, None, 'ntk')\n",
        "eig_mlp, vec_mlp= jnp.linalg.eigh(K_mlp)\n",
        "indsort = jnp.argsort(eig_mlp)[::-1]\n",
        "\n",
        "v = jnp.sum( ( 1/vec.shape[0] * vec_mlp.T @ y_mat[0:N_pt,:])**2 , axis = 1)\n",
        "all_eigs += [ eig_mlp[indsort] ]\n",
        "all_v += [ v[indsort] ] "
      ],
      "execution_count": null,
      "outputs": []
    },
    {
      "cell_type": "code",
      "metadata": {
        "colab": {
          "base_uri": "https://localhost:8080/",
          "height": 879
        },
        "id": "RRa2-I8AmYw7",
        "outputId": "a702e061-281e-4a2a-c855-9e51a534723c"
      },
      "source": [
        "def extract_power_law(spec, start=0, end=None, xarr = []):\n",
        "  if end == None:\n",
        "    end = len(spec)\n",
        "  inds= np.linspace(start, end, end - start) \n",
        "  if len(xarr) > 0:\n",
        "    inds = xarr[start:end]\n",
        "  beta = - np.cov(np.log(inds), np.log(spec[start:end]))[0,1] / np.var(np.log(inds))\n",
        "  return beta\n",
        "\n",
        "labels = ['CONV', 'MLP']\n",
        "all_b = []\n",
        "start = 50\n",
        "end = 2500\n",
        "\n",
        "for i,eigs in enumerate(all_eigs):\n",
        "  b_i = extract_power_law( eigs, start,end)\n",
        "  eig_i = eigs/eigs[0]\n",
        "  \n",
        "  pred =  np.linspace(start,end, end-start)**(-b_i)\n",
        "  pred = pred * np.mean(eig_i[start:end]) /  np.mean(pred)\n",
        "  plt.loglog( np.linspace(1,len(all_eigs[i]), len(all_eigs[i])), eig_i , label = labels[i])\n",
        "  plt.loglog( np.linspace(start, end, end-start), pred  , '--', color = 'black')\n",
        "  if i == len(all_v)-1:\n",
        "    plt.loglog( np.linspace(start,end, end-start), pred, '--', color = 'black', label = 'Fit' )\n",
        "  else:\n",
        "    plt.loglog( np.linspace(start,end, end-start), pred, '--', color = 'black' )\n",
        "\n",
        "  all_b += [b_i]\n",
        "plt.xlabel(r'$k$',fontsize = 20)\n",
        "plt.ylabel(r'$\\lambda_k$',fontsize =20)\n",
        "#plt.title('Kernel Eigenvalues', fontsize = 20)\n",
        "plt.legend()\n",
        "plt.tight_layout()\n",
        "plt.savefig(root_dir + 'cifar_conv_vs_MLP_spectra_scaling_exponents.pdf')\n",
        "plt.show()\n",
        "print(all_b)\n",
        "\n",
        "all_a = []\n",
        "\n",
        "for i, v in enumerate(all_v): \n",
        "  plt.loglog(v, label = labels[i])\n",
        "  a_i = extract_power_law( v, start,end)\n",
        "  all_a += [a_i]\n",
        "  pred = np.linspace(start,end, end-start)**(-a_i)\n",
        "  pred = pred/np.mean(pred) * np.mean(v[start:end])\n",
        "  if i == len(all_v)-1:\n",
        "    plt.loglog( np.linspace(start,end, end-start), pred, '--', color = 'black', label = 'Fit' )\n",
        "  else:\n",
        "    plt.loglog( np.linspace(start,end, end-start), pred, '--', color = 'black' )\n",
        "\n",
        "plt.xlabel(r'$k$',fontsize = 20)\n",
        "plt.ylabel(r'$v_k^2$',fontsize =20)\n",
        "#plt.title('Task Power Spectrum', fontsize= 20)\n",
        "plt.legend()\n",
        "plt.tight_layout()\n",
        "plt.savefig(root_dir + 'cifar_conv_vs_MLP_task_scaling_exponents.pdf')\n",
        "plt.show()\n",
        "\n",
        "\n",
        "all_a2 = []\n",
        "for i, v in enumerate(all_v): \n",
        "  cum_v = np.cumsum(v) / np.sum(v)\n",
        "  acumv = ( 1-cum_v ) * len(cum_v) / (10+len(cum_v) - np.linspace(1,len(cum_v), len(cum_v)))\n",
        "  a_i = extract_power_law( acumv, start,end)\n",
        "  all_a2 += [a_i]\n",
        "  pred = np.linspace(start,end, end-start)**(-a_i)\n",
        "  pred = pred/np.mean(pred) * np.mean(1-cum_v[start:end])\n",
        "  pred = pred * acumv[end] / pred[-1]\n",
        "  plt.loglog(acumv, label = labels[i])\n",
        "\n",
        "  if i == len(all_v)-1:\n",
        "    plt.loglog( np.linspace(start,end, end-start), pred, '--', color = 'black', label = 'Fit' )\n",
        "  else:\n",
        "    plt.loglog( np.linspace(start,end, end-start), pred, '--', color = 'black' )\n",
        "\n",
        "\n",
        "plt.xlabel(r'$k$',fontsize = 20)\n",
        "plt.ylabel(r'$\\sum_{n=k}^\\infty \\lambda_n v_n^2 $',fontsize =20)\n",
        "plt.ylim([0.5,0.9])\n",
        "#plt.title('Task Power Spectrum', fontsize= 20)\n",
        "plt.legend()\n",
        "plt.tight_layout()\n",
        "plt.savefig(root_dir + 'cifar_conv_vs_MLP_task_scaling_exponents_tailsum_better_title.pdf')\n",
        "plt.show()\n",
        "print(all_a2)\n",
        "\n"
      ],
      "execution_count": null,
      "outputs": [
        {
          "output_type": "display_data",
          "data": {
            "image/png": "[encoded data removed]",
            "text/plain": [
              "<Figure size 432x288 with 1 Axes>"
            ]
          },
          "metadata": {
            "tags": [],
            "needs_background": "light"
          }
        },
        {
          "output_type": "stream",
          "text": [
            "[1.008635010215918, 0.7868183179574973]\n"
          ],
          "name": "stdout"
        },
        {
          "output_type": "display_data",
          "data": {
            "image/png": "[encoded data removed]",
            "text/plain": [
              "<Figure size 432x288 with 1 Axes>"
            ]
          },
          "metadata": {
            "tags": [],
            "needs_background": "light"
          }
        },
        {
          "output_type": "display_data",
          "data": {
            "image/png": "[encoded data removed]",
            "text/plain": [
              "<Figure size 432x288 with 1 Axes>"
            ]
          },
          "metadata": {
            "tags": [],
            "needs_background": "light"
          }
        },
        {
          "output_type": "stream",
          "text": [
            "[0.07671703648705944, 0.0482533345423585]\n"
          ],
          "name": "stdout"
        }
      ]
    },
    {
      "cell_type": "code",
      "metadata": {
        "id": "99uuERbs5Kxy"
      },
      "source": [
        "import timeit\n",
        "def train_model(params, apply_fn, learning_rate=0.001, batch_size = 25, num_step = 2500, conv=True):\n",
        "\n",
        "  \n",
        "  loss = jit( lambda params, Xtr, ytr: 10*jnp.mean(  ( apply_fn(params, Xtr) - ytr)**2  ) )\n",
        "  test_loss = jit( lambda params: 10*jnp.mean( ( apply_fn(params, image_test[0:500,:,:,:]) - y_mat_te[0:500,:])**2  ) )\n",
        "  if conv == False:\n",
        "    test_loss = jit( lambda params: 10*jnp.mean( ( apply_fn(params, Xte[0:500,:]) - y_mat_te[0:500,:])**2  ) )\n",
        "\n",
        "  grad_fn  = jit(grad(loss, 0))\n",
        "  \n",
        "  opt_init, opt_update, get_params = optimizers.adam(learning_rate)\n",
        "  opt_state = opt_init(params)\n",
        "  train = []\n",
        "  test = []\n",
        "  start = timeit.default_timer()\n",
        "  for t in range(num_step):\n",
        "    start = (batch_size * t) % 50000\n",
        "    if conv == True:\n",
        "      D_t = image[start:start+batch_size,:,:,:]\n",
        "    else:\n",
        "      D_t = X[start:start+batch_size,:]\n",
        "    y_t = y_mat[start:start+batch_size,:]\n",
        "    opt_state = opt_update(t, grad_fn(get_params(opt_state), D_t, y_t) , opt_state)\n",
        "    #train_loss = loss(get_params(opt_state),  D_t, y_t )\n",
        "    #train += [train_loss]\n",
        "\n",
        "    #wandb.log({'train-loss': np.array(train_loss), 'test-loss': np.array(test_loss(get_params(opt_state))) })\n",
        "    if t % 100 == 0:\n",
        "      test  += [test_loss(get_params(opt_state))]\n",
        "      sys.stdout.write('\\r t = %d | train: %0.4f | test = %0.4f' % (t, loss(get_params(opt_state),  D_t, y_t ), test[-1]))\n",
        "      \n",
        "  return train, test"
      ],
      "execution_count": null,
      "outputs": []
    },
    {
      "cell_type": "markdown",
      "metadata": {
        "id": "tSUE7ARpB426"
      },
      "source": [
        "### Train MLP and Conv net to compare"
      ]
    },
    {
      "cell_type": "code",
      "metadata": {
        "colab": {
          "base_uri": "https://localhost:8080/"
        },
        "id": "qOGMhFuk6TKB",
        "outputId": "0fe52a56-9bf2-4acc-cdc3-d89840410f67"
      },
      "source": [
        "width = 512\n",
        "num_step = 12000\n",
        "init_fn, apply_fn, _ = fully_connected(width, depth)\n",
        "_, params= init_fn(random.PRNGKey(0), (-1, 3*32**2))\n",
        "train_mlp, test_mlp = train_model(params, apply_fn, num_step = num_step, conv=False)"
      ],
      "execution_count": null,
      "outputs": [
        {
          "output_type": "stream",
          "text": [
            " t = 11900 | train: 0.6793 | test = 0.7022"
          ],
          "name": "stdout"
        }
      ]
    },
    {
      "cell_type": "code",
      "metadata": {
        "colab": {
          "base_uri": "https://localhost:8080/",
          "height": 272
        },
        "id": "0fsfSO-lH7RM",
        "outputId": "6eeb4e99-1694-48c2-d2ff-e4f194fa5411"
      },
      "source": [
        "plt.loglog(test_mlp)\n",
        "plt.show()"
      ],
      "execution_count": null,
      "outputs": [
        {
          "output_type": "display_data",
          "data": {
            "image/png": "[encoded data removed]",
            "text/plain": [
              "<Figure size 432x288 with 1 Axes>"
            ]
          },
          "metadata": {
            "tags": [],
            "needs_background": "light"
          }
        }
      ]
    },
    {
      "cell_type": "code",
      "metadata": {
        "colab": {
          "base_uri": "https://localhost:8080/"
        },
        "id": "t0AfZCaDCpWV",
        "outputId": "a6c85a65-68e5-450d-d09b-d8d4c6968244"
      },
      "source": [
        "width = 50\n",
        "num_step = 12000\n",
        "print(image_test.shape)\n",
        "print(image.shape)\n",
        "init_fn, apply_fn, _ = convnet(width, depth)\n",
        "_, params= init_fn(random.PRNGKey(0), (-1, 32,32,3))\n",
        "train_conv, test_conv = train_model(params, apply_fn, learning_rate = 0.01, num_step = num_step, conv=True)"
      ],
      "execution_count": null,
      "outputs": [
        {
          "output_type": "stream",
          "text": [
            "(10000, 32, 32, 3)\n",
            "(50000, 32, 32, 3)\n",
            " t = 11900 | train: 0.6083 | test = 0.5745"
          ],
          "name": "stdout"
        }
      ]
    },
    {
      "cell_type": "code",
      "metadata": {
        "colab": {
          "base_uri": "https://localhost:8080/",
          "height": 293
        },
        "id": "kg_zcaTjEBng",
        "outputId": "7c65aeda-be99-4eb8-9b78-21ab0f26ad60"
      },
      "source": [
        "start = 1\n",
        "end = 12000\n",
        "arr = np.linspace(start, end, len(test_conv))\n",
        "\n",
        "plt.loglog(arr, test_conv, label = labels[0])\n",
        "plt.loglog(arr, test_mlp, label = labels[1])\n",
        "\n",
        "scale_1 = arr**(-all_a2[0])\n",
        "scale_1 = scale_1 / scale_1[-1] * test_conv[-1]\n",
        "\n",
        "scale_2 = arr**(-all_a2[1])\n",
        "scale_2 = scale_2 / scale_2[-1] * test_mlp[-1]\n",
        "plt.loglog(arr[1:], scale_1[1:], '--',color = 'black', label = 'Theory')\n",
        "plt.loglog(arr[1:], scale_2[1:], '--', color = 'black')\n",
        "plt.xlabel(r'$t$',fontsize=20)\n",
        "plt.ylabel(r'$L_t$',fontsize=20)\n",
        "plt.ylim([5e-1,1.1])\n",
        "plt.xlim([10,np.amax(arr)])\n",
        "#plt.title('CIFAR Online Scalings',fontsize=20)\n",
        "plt.legend()\n",
        "plt.tight_layout()\n",
        "plt.savefig(root_dir + 'wide_conv_vs_mlp_cifar_longer.pdf')\n",
        "plt.show()"
      ],
      "execution_count": null,
      "outputs": [
        {
          "output_type": "display_data",
          "data": {
            "image/png": "[encoded data removed]",
            "text/plain": [
              "<Figure size 432x288 with 1 Axes>"
            ]
          },
          "metadata": {
            "tags": [],
            "needs_background": "light"
          }
        }
      ]
    }
  ]
}